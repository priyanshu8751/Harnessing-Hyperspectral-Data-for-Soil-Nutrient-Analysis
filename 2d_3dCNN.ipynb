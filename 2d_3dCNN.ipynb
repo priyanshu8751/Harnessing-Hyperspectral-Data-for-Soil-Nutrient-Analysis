{
 "cells": [
  {
   "cell_type": "code",
   "execution_count": 1,
   "metadata": {
    "colab": {
     "base_uri": "https://localhost:8080/"
    },
    "executionInfo": {
     "elapsed": 24003,
     "status": "ok",
     "timestamp": 1713107296644,
     "user": {
      "displayName": "Priyanshu Gupta",
      "userId": "04165208456498233301"
     },
     "user_tz": -330
    },
    "id": "DN2blKQnwQ7z",
    "outputId": "7dd3f88d-d635-4673-8f18-5c601bef6aaa"
   },
   "outputs": [
    {
     "name": "stdout",
     "output_type": "stream",
     "text": [
      "Mounted at /content/drive/\n"
     ]
    }
   ],
   "source": [
    "from google.colab import drive\n",
    "drive.mount('/content/drive/')"
   ]
  },
  {
   "cell_type": "code",
   "execution_count": 2,
   "metadata": {
    "executionInfo": {
     "elapsed": 7294,
     "status": "ok",
     "timestamp": 1713107308458,
     "user": {
      "displayName": "Priyanshu Gupta",
      "userId": "04165208456498233301"
     },
     "user_tz": -330
    },
    "id": "UPq5_78KnUSx"
   },
   "outputs": [],
   "source": [
    "# GENERAL UTILITIES\n",
    "import os\n",
    "from glob import glob\n",
    "import pandas as pd\n",
    "from  tqdm.notebook import tqdm\n",
    "import cv2\n",
    "from matplotlib import pyplot as plt\n",
    "import seaborn as sns\n",
    "\n",
    "%matplotlib inline\n",
    "\n",
    "# MODEL DEVELOPMENT DEPENDENCIES\n",
    "import numpy as np\n",
    "import pywt\n",
    "from sklearn.ensemble import RandomForestRegressor\n",
    "from sklearn.metrics import mean_squared_error\n",
    "from sklearn.model_selection import KFold, StratifiedKFold\n",
    "from sklearn.multioutput import MultiOutputRegressor\n",
    "from sklearn.neighbors import KNeighborsRegressor\n",
    "from sklearn import preprocessing\n",
    "from sklearn.preprocessing import StandardScaler, MinMaxScaler\n",
    "from sklearn.model_selection import train_test_split"
   ]
  },
  {
   "cell_type": "code",
   "execution_count": 3,
   "metadata": {
    "executionInfo": {
     "elapsed": 393,
     "status": "ok",
     "timestamp": 1713107340024,
     "user": {
      "displayName": "Priyanshu Gupta",
      "userId": "04165208456498233301"
     },
     "user_tz": -330
    },
    "id": "AmeYFV4QxFsP"
   },
   "outputs": [],
   "source": [
    "def load_gt(file_path: str):\n",
    "    \"\"\"Load labels for train set from the ground truth file.\n",
    "    Args:\n",
    "        file_path (str): Path to the ground truth .csv file.\n",
    "    Returns:\n",
    "        [type]: 2D numpy array with soil properties levels\n",
    "    \"\"\"\n",
    "    gt_file = pd.read_csv(file_path)\n",
    "    labels = gt_file[[\"P\", \"K\", \"Mg\", \"pH\"]].values\n",
    "\n",
    "    return labels"
   ]
  },
  {
   "cell_type": "code",
   "execution_count": 4,
   "metadata": {
    "executionInfo": {
     "elapsed": 1,
     "status": "ok",
     "timestamp": 1713107340428,
     "user": {
      "displayName": "Priyanshu Gupta",
      "userId": "04165208456498233301"
     },
     "user_tz": -330
    },
    "id": "fghu379b39fa"
   },
   "outputs": [],
   "source": [
    "# use this if you want to divide the patches with unmasked pixel greater than threshold set to be 40, and maintain\n",
    "\n",
    "# the patch size to be smallest 11 x 11 constant for all patches, increasing the training data\n",
    "\n",
    "def load_data_div_patch(directory, gt_file_path):\n",
    "  datalist = []\n",
    "  masklist = []\n",
    "  augmented_data = []\n",
    "  augmented_label = []\n",
    "\n",
    "  labels = load_gt(gt_file_path)\n",
    "\n",
    "  all_files = np.array(\n",
    "      sorted(\n",
    "          glob(os.path.join(directory, \"*.npz\")),\n",
    "          key=lambda x: int(os.path.basename(x).replace(\".npz\", \"\")),\n",
    "      )\n",
    "  )\n",
    "\n",
    "#   all_files = all_files[1650:]\n",
    "  sum = 0\n",
    "  _min = 121\n",
    "\n",
    "  for idx, file_name in tqdm(enumerate(all_files),total=len(all_files), desc=\"Loading {} data ..\"\n",
    "                              .format(\"training\")):\n",
    "      # We load the data into memory as provided in the example notebook of the challenge\n",
    "      with np.load(file_name) as npz:\n",
    "          mask = npz[\"mask\"]\n",
    "          data = npz[\"data\"]\n",
    "          # masklist.append(mask)\n",
    "          # datalist.append(data)\n",
    "          sh = data.shape[1:]\n",
    "          edge = 11\n",
    "          # temp = 0\n",
    "          # for x in range(sh[0]):\n",
    "          #   for y in range(sh[1]):\n",
    "          #     if(mask[0][x][y] == True):\n",
    "          #       sum = sum + 1\n",
    "          #       temp = temp + 1\n",
    "          # _min = min(_min, temp)\n",
    "\n",
    "          appended = 0\n",
    "          for x in range(0, sh[0], edge):\n",
    "            for y in range(0, sh[1], edge):\n",
    "              if np.sum(mask[0, x : (x + edge), y : (y + edge)]) >= 40:\n",
    "                aug_data = data[:, x : (x + edge), y : (y + edge)]\n",
    "                augmented_data.append(aug_data)\n",
    "                augmented_label.append(labels[idx])\n",
    "                appended += 1\n",
    "          if appended == 0:\n",
    "            aug_data = data[:, (sh[0] - edge) / 2 : ((sh[0] - edge) / 2 + edge), (sh[1] - edge) / 2 : ((sh[1] - edge) / 2 + edge)]\n",
    "            augmented_data.append(aug_data)\n",
    "            augmented_label.append(labels[idx])\n",
    "\n",
    "\n",
    "\n",
    "\n",
    "\n",
    "  # print(_min, sum)\n",
    "  return augmented_data, augmented_label"
   ]
  },
  {
   "cell_type": "code",
   "execution_count": null,
   "metadata": {
    "id": "o5DuWVJBnZqt"
   },
   "outputs": [],
   "source": [
    "# adds augmented data\n",
    "def load_data(directory, gt_file_path):\n",
    "    \"\"\"Load each cube, reduce its dimensionality and append to array.\n",
    "\n",
    "    Args:\n",
    "        directory (str): Directory to either train or test set\n",
    "        gt_file_path (str): File path for the ground truth labels (expected CVS file)\n",
    "        is_train (boolean): Binary flag for setting loader for Train (TRUE) or Test (FALSE)\n",
    "        augment_constant (int): number of augmentation steps to randomly crop from the larger agricultural fields\n",
    "    Returns:\n",
    "        [type]: Tuple of lists composed of raw field (data , mask) pairs,\n",
    "                and if exists: (augmented data, augmented mask) pairs, and ground truth labels\n",
    "    \"\"\"\n",
    "\n",
    "    datalist = []\n",
    "    masklist = []\n",
    "\n",
    "    labels = load_gt(gt_file_path)\n",
    "\n",
    "    all_files = np.array(\n",
    "        sorted(\n",
    "            glob(os.path.join(directory, \"*.npz\")),\n",
    "            key=lambda x: int(os.path.basename(x).replace(\".npz\", \"\")),\n",
    "        )\n",
    "    )\n",
    "\n",
    "    all_files = all_files[0:600]\n",
    "    count1 = 0\n",
    "    count2 = 0\n",
    "\n",
    "    for idx, file_name in tqdm(enumerate(all_files),total=len(all_files), desc=\"Loading {} data ..\"\n",
    "                               .format(\"training\")):\n",
    "       # We load the data into memory as provided in the example notebook of the challenge\n",
    "        with np.load(file_name) as npz:\n",
    "            mask = npz[\"mask\"]\n",
    "            data = npz[\"data\"]\n",
    "            masklist.append(mask)\n",
    "            datalist.append(data)\n",
    "            continue\n",
    "            flag = True\n",
    "            ma = np.max(data, keepdims=False)\n",
    "            sh = data.shape[1:]\n",
    "            edge = 11\n",
    "            for x in range(sh[0] + 1 - edge):\n",
    "                for y in range(sh[1] + 1 - edge):\n",
    "                # Repeating 11x11 cropping 10 times does not mean we use all croppings:\n",
    "                # as seen in the Flag=False below at the end of the loop,\n",
    "                # when we reach at the good crop (not coinciding to the masked area) we stop searching\n",
    "\n",
    "                # Randomly cropping the fields with 11x11 size,\n",
    "                # and adding some noise to the cropped samples\n",
    "\n",
    "                # get crops having meaningful pixels, not zeros\n",
    "                  if np.sum(mask[0, x : (x + edge), y : (y + edge)]) >= 8:\n",
    "                      aug_data = data[:, x : (x + edge), y : (y + edge)]\n",
    "                      aug_mask = mask[:, x : (x + edge), y : (y + edge)]\n",
    "                      for k in range(150):\n",
    "                        for i in range(edge):\n",
    "                          for j in range(edge):\n",
    "                            if(aug_mask[k][i][j] == False):\n",
    "                              aug_data[k][i][j] = 0\n",
    "                      flag = False #break the loop when you have a meaningful crop\n",
    "                      break\n",
    "                  if not flag:\n",
    "                    break\n",
    "\n",
    "            if flag:\n",
    "              for x in range(sh[0] + 1 - edge):\n",
    "                for y in range(sh[1] + 1 - edge):\n",
    "                # Repeating 11x11 cropping 10 times does not mean we use all croppings:\n",
    "                # as seen in the Flag=False below at the end of the loop,\n",
    "                # when we reach at the good crop (not coinciding to the masked area) we stop searching\n",
    "\n",
    "                # Randomly cropping the fields with 11x11 size,\n",
    "                # and adding some noise to the cropped samples\n",
    "\n",
    "                # get crops having meaningful pixels, not zeros\n",
    "                  if np.sum(mask[0, x : (x + edge), y : (y + edge)]) >= 6:\n",
    "                    aug_data = data[:, x : (x + edge), y : (y + edge)]\n",
    "                    aug_mask = mask[:, x : (x + edge), y : (y + edge)]\n",
    "                    for k in range(150):\n",
    "                      for i in range(edge):\n",
    "                        for j in range(edge):\n",
    "                          if(aug_mask[k][i][j] == False):\n",
    "                            aug_data[k][i][j] = 0\n",
    "                    flag = False #break the loop when you have a meaningful crop\n",
    "                    count1 = count1 + 1\n",
    "                    break\n",
    "                  if not flag:\n",
    "                    break\n",
    "\n",
    "            # After having  11x11 croped sample, get another crop considering\n",
    "            # the minimum edge length: (min_edge,min_edge)\n",
    "            if flag:\n",
    "              count2 = count2 + 1\n",
    "              for k in range(150):\n",
    "                for i in range(sh[0]):\n",
    "                  for j in range(sh[1]):\n",
    "                    if(mask[k][i][j] == False):\n",
    "                      data[k][i][j] = 0\n",
    "              aug_data = cv2.resize(data, (edge, edge), interpolation=cv2.INTER_LINEAR)\n",
    "\n",
    "\n",
    "            datalist.append(aug_data)\n",
    "\n",
    "\n",
    "    print(count1, count2)\n",
    "    return datalist, masklist\n",
    "\n"
   ]
  },
  {
   "cell_type": "code",
   "execution_count": 11,
   "metadata": {
    "executionInfo": {
     "elapsed": 7,
     "status": "ok",
     "timestamp": 1713107570199,
     "user": {
      "displayName": "Priyanshu Gupta",
      "userId": "04165208456498233301"
     },
     "user_tz": -330
    },
    "id": "rgTeZInPQhtj"
   },
   "outputs": [],
   "source": [
    "def load_data_1d(directory, gt_file_path):\n",
    "  x_train = []\n",
    "  y_train = []\n",
    "  x_test = []\n",
    "  y_test = []\n",
    "\n",
    "  labels = load_gt(gt_file_path)\n",
    "\n",
    "  all_files = np.array(\n",
    "      sorted(\n",
    "          glob(os.path.join(directory, \"*.npz\")),\n",
    "          key=lambda x: int(os.path.basename(x).replace(\".npz\", \"\")),\n",
    "      )\n",
    "  )\n",
    "\n",
    "  all_files = all_files[1152:1153]\n",
    "  train_size = 0.8\n",
    "\n",
    "  for idx, file_name in tqdm(enumerate(all_files),total=len(all_files), desc=\"Loading {} data ..\"\n",
    "                              .format(\"training\")):\n",
    "      # We load the data into memory as provided in the example notebook of the challenge\n",
    "      with np.load(file_name) as npz:\n",
    "          mask = npz[\"mask\"]\n",
    "          data = npz[\"data\"]\n",
    "          sh = data.shape[1:]\n",
    "\n",
    "          augmented_data = []\n",
    "          for x in range(0, sh[0]):\n",
    "            for y in range(0, sh[1]):\n",
    "              if mask[0][x][y] == False:\n",
    "                augmented_data.append(data[:, x, y])\n",
    "\n",
    "          for i in range(len(augmented_data)):\n",
    "            if (i / len(augmented_data) < train_size):\n",
    "              x_train.append(augmented_data[i])\n",
    "              y_train.append(labels[idx])\n",
    "            else:\n",
    "              x_test.append(augmented_data[i])\n",
    "              y_test.append(labels[idx])\n",
    "\n",
    "  return x_train, y_train, x_test, y_test"
   ]
  },
  {
   "cell_type": "code",
   "execution_count": 12,
   "metadata": {
    "colab": {
     "base_uri": "https://localhost:8080/",
     "height": 49,
     "referenced_widgets": [
      "12e820d687254b22a3b8eabbe9e306cc",
      "5b64039e080f49a3ad329d05e7914a8c",
      "dfcae9a7d415438382a7369ce13a06ef",
      "7c4f731ff4a2408192578eca04b8d210",
      "b1e99f6834be4271b09d127d10162e26",
      "a527ca861c844e61b32982dc8438a03b",
      "f3d3b3fde92147b79d76bc8c357c6cd9",
      "787c5f96e2c94a9eada3ad58c1416376",
      "9fc23f9f7dd84974ae9d78fcfbb3b825",
      "3dd0fe6a7f8e4e5c84ff0a23bd5019af",
      "935e7cc95acd40e991b519c9316343f2"
     ]
    },
    "executionInfo": {
     "elapsed": 766,
     "status": "ok",
     "timestamp": 1713107572998,
     "user": {
      "displayName": "Priyanshu Gupta",
      "userId": "04165208456498233301"
     },
     "user_tz": -330
    },
    "id": "Xkuw1ymjpwL9",
    "outputId": "343fc619-0888-4582-85d1-dfcc62b91396"
   },
   "outputs": [
    {
     "data": {
      "application/vnd.jupyter.widget-view+json": {
       "model_id": "12e820d687254b22a3b8eabbe9e306cc",
       "version_major": 2,
       "version_minor": 0
      },
      "text/plain": [
       "Loading training data ..:   0%|          | 0/1 [00:00<?, ?it/s]"
      ]
     },
     "metadata": {},
     "output_type": "display_data"
    }
   ],
   "source": [
    "# Please be sure that the directory and file locations are given correctly in your own system\n",
    "train_data_dir = \"/content/drive/MyDrive/BTP/train_data/train_data/train_data\"\n",
    "test_data_dir = \"/content/drive/MyDrive/BTP/test_data\"\n",
    "gt_data_path = \"/content/drive/MyDrive/BTP/train_data/train_data/train_gt.csv\"\n",
    "\n",
    "# Loading training raw data\n",
    "X_train, y_train = load_data(train_data_dir, gt_data_path)\n"
   ]
  },
  {
   "cell_type": "code",
   "execution_count": 17,
   "metadata": {
    "colab": {
     "base_uri": "https://localhost:8080/",
     "height": 447
    },
    "executionInfo": {
     "elapsed": 4,
     "status": "ok",
     "timestamp": 1713107653941,
     "user": {
      "displayName": "Priyanshu Gupta",
      "userId": "04165208456498233301"
     },
     "user_tz": -330
    },
    "id": "as38wHjxKzF4",
    "outputId": "2151f5f1-1452-4b3b-88ac-41daae1871c7"
   },
   "outputs": [
    {
     "data": {
      "text/plain": [
       "[<matplotlib.lines.Line2D at 0x7a4e349083a0>]"
      ]
     },
     "execution_count": 17,
     "metadata": {},
     "output_type": "execute_result"
    },
    {
     "data": {
      "image/png": "[encoded data removed]",
      "text/plain": [
       "<Figure size 640x480 with 1 Axes>"
      ]
     },
     "metadata": {},
     "output_type": "display_data"
    }
   ],
   "source": [
    "# 1d data\n",
    "plt.plot(X_train[200])"
   ]
  },
  {
   "cell_type": "code",
   "execution_count": null,
   "metadata": {
    "colab": {
     "base_uri": "https://localhost:8080/"
    },
    "executionInfo": {
     "elapsed": 2,
     "status": "ok",
     "timestamp": 1707820466624,
     "user": {
      "displayName": "Priyanshu Gupta",
      "userId": "04165208456498233301"
     },
     "user_tz": -330
    },
    "id": "GI_Bi25UBZyD",
    "outputId": "6f82889b-b8b1-4d1f-c486-b878f6bb6afd"
   },
   "outputs": [
    {
     "data": {
      "text/plain": [
       "11"
      ]
     },
     "execution_count": 28,
     "metadata": {},
     "output_type": "execute_result"
    }
   ],
   "source": [
    "len(X_train[0][0][0])"
   ]
  },
  {
   "cell_type": "code",
   "execution_count": null,
   "metadata": {
    "id": "DX2Q4HIYqVRe"
   },
   "outputs": [],
   "source": [
    "labels = load_gt(gt_data_path)"
   ]
  },
  {
   "cell_type": "code",
   "execution_count": null,
   "metadata": {
    "id": "0H9YOOLddZyT"
   },
   "outputs": [],
   "source": [
    "X = []\n",
    "for i in range(200):\n",
    "  d1 = []\n",
    "  for j in range(150):\n",
    "    a = cv2.resize(X_train[i][j], (11, 11), interpolation=cv2.INTER_LINEAR)\n",
    "    d1.append(a.astype(float))\n",
    "  d1 = np.array(d1)\n",
    "  X.append(d1)"
   ]
  },
  {
   "cell_type": "code",
   "execution_count": null,
   "metadata": {
    "id": "lJUD6YxvlXwB"
   },
   "outputs": [],
   "source": [
    "\n",
    "M = []\n",
    "for i in range(200):\n",
    "  d1 = []\n",
    "  for j in range(150):\n",
    "    uint = M_train[i][j].astype(np.uint8) * 255\n",
    "    a = cv2.resize(uint, (11, 11), interpolation=cv2.INTER_AREA)\n",
    "    d1.append(a)\n",
    "  d1 = np.array(d1)\n",
    "  M.append(d1)"
   ]
  },
  {
   "cell_type": "code",
   "execution_count": null,
   "metadata": {
    "id": "vsQzrpItmW1G"
   },
   "outputs": [],
   "source": [
    "X = np.array(X)\n",
    "M = np.array(M)"
   ]
  },
  {
   "cell_type": "code",
   "execution_count": null,
   "metadata": {
    "id": "ldBJOQxWob3i"
   },
   "outputs": [],
   "source": [
    "X_train1 = X_train"
   ]
  },
  {
   "cell_type": "code",
   "execution_count": null,
   "metadata": {
    "id": "uAExuTOWA8m1"
   },
   "outputs": [],
   "source": [
    "X_train = np.array(X_train)"
   ]
  },
  {
   "cell_type": "code",
   "execution_count": null,
   "metadata": {
    "id": "W7KoOJbhIwti"
   },
   "outputs": [],
   "source": [
    "M_train = np.array(M_train)"
   ]
  },
  {
   "cell_type": "code",
   "execution_count": null,
   "metadata": {
    "colab": {
     "base_uri": "https://localhost:8080/"
    },
    "executionInfo": {
     "elapsed": 11,
     "status": "ok",
     "timestamp": 1707469936252,
     "user": {
      "displayName": "Priyanshu Gupta",
      "userId": "04165208456498233301"
     },
     "user_tz": -330
    },
    "id": "6o2mxHVboOxm",
    "outputId": "291c44c0-b192-4523-b9e6-90886839d1f9"
   },
   "outputs": [
    {
     "data": {
      "text/plain": [
       "(500, 4)"
      ]
     },
     "execution_count": 28,
     "metadata": {},
     "output_type": "execute_result"
    }
   ],
   "source": [
    "labels.shape"
   ]
  },
  {
   "cell_type": "code",
   "execution_count": null,
   "metadata": {
    "id": "NBnDaQtKo-cg"
   },
   "outputs": [],
   "source": [
    "X1 = X * M"
   ]
  },
  {
   "cell_type": "code",
   "execution_count": null,
   "metadata": {
    "colab": {
     "base_uri": "https://localhost:8080/"
    },
    "executionInfo": {
     "elapsed": 9,
     "status": "ok",
     "timestamp": 1707290598721,
     "user": {
      "displayName": "Priyanshu Gupta",
      "userId": "04165208456498233301"
     },
     "user_tz": -330
    },
    "id": "dsRx3xv0cvsB",
    "outputId": "e529bd4c-3cd4-4e55-d546-95494ed537a8"
   },
   "outputs": [
    {
     "data": {
      "text/plain": [
       "884850.0"
      ]
     },
     "execution_count": 14,
     "metadata": {},
     "output_type": "execute_result"
    }
   ],
   "source": [
    "np.max(X1)"
   ]
  },
  {
   "cell_type": "code",
   "execution_count": null,
   "metadata": {
    "id": "dbefbfMPcyqx"
   },
   "outputs": [],
   "source": [
    "X1 = X1 / 884850"
   ]
  },
  {
   "cell_type": "code",
   "execution_count": null,
   "metadata": {
    "id": "e57fb_AF-CSr"
   },
   "outputs": [],
   "source": [
    "X_train = np.reshape(X_train, (600, 11, 11, 150))"
   ]
  },
  {
   "cell_type": "code",
   "execution_count": null,
   "metadata": {
    "colab": {
     "base_uri": "https://localhost:8080/"
    },
    "executionInfo": {
     "elapsed": 2,
     "status": "ok",
     "timestamp": 1707470003670,
     "user": {
      "displayName": "Priyanshu Gupta",
      "userId": "04165208456498233301"
     },
     "user_tz": -330
    },
    "id": "YND8H2BcpJk6",
    "outputId": "ae2522d6-4dba-4a4f-bf37-101a6e281c15"
   },
   "outputs": [
    {
     "data": {
      "text/plain": [
       "(500, 11, 11, 150)"
      ]
     },
     "execution_count": 33,
     "metadata": {},
     "output_type": "execute_result"
    }
   ],
   "source": [
    "X_train.shape"
   ]
  },
  {
   "cell_type": "code",
   "execution_count": null,
   "metadata": {
    "id": "vD8-TFI1S5uu"
   },
   "outputs": [],
   "source": [
    "for i in range(500):\n",
    "  for j in range(11):\n",
    "    for k in range(11):\n",
    "      for l in range(150):\n",
    "        if(M_train[i][j][k][l] == False):\n",
    "          X_train[i][j][k][l] = 0"
   ]
  },
  {
   "cell_type": "code",
   "execution_count": null,
   "metadata": {
    "colab": {
     "base_uri": "https://localhost:8080/",
     "height": 447
    },
    "executionInfo": {
     "elapsed": 1094,
     "status": "ok",
     "timestamp": 1707472724723,
     "user": {
      "displayName": "Priyanshu Gupta",
      "userId": "04165208456498233301"
     },
     "user_tz": -330
    },
    "id": "AVSdb6nw1Wk6",
    "outputId": "982d800b-115c-4c41-bb7d-bb35e3772697"
   },
   "outputs": [
    {
     "data": {
      "text/plain": [
       "<matplotlib.image.AxesImage at 0x7fb60b8630d0>"
      ]
     },
     "execution_count": 67,
     "metadata": {},
     "output_type": "execute_result"
    },
    {
     "data": {
      "image/png": "[encoded data removed]",
      "text/plain": [
       "<Figure size 640x480 with 1 Axes>"
      ]
     },
     "metadata": {},
     "output_type": "display_data"
    }
   ],
   "source": [
    "plt.imshow(X_train[0,:,:,0])"
   ]
  },
  {
   "cell_type": "markdown",
   "metadata": {
    "id": "hmuif-J2jfaC"
   },
   "source": [
    "2D CNN"
   ]
  },
  {
   "cell_type": "code",
   "execution_count": null,
   "metadata": {
    "id": "tHtrZ9WmjhwD"
   },
   "outputs": [],
   "source": [
    "import tensorflow as tf\n",
    "from tensorflow.keras import layers, models\n",
    "\n",
    "model = models.Sequential()\n",
    "\n",
    "model.add(layers.Conv2D(32 , (1, 1), activation='relu', input_shape=(11, 11, 150)))\n",
    "model.add(layers.AveragePooling2D((1, 1)))\n",
    "\n",
    "model.add(layers.Conv2D(64 , (1, 1), activation='relu'))\n",
    "model.add(layers.AveragePooling2D((1, 1)))\n",
    "\n",
    "model.add(layers.Flatten())\n",
    "\n",
    "model.add(layers.Dense(64, activation='relu'))\n",
    "model.add(layers.Dense(4, activation='linear'))"
   ]
  },
  {
   "cell_type": "code",
   "execution_count": null,
   "metadata": {
    "id": "tFD3VgpZnK6p"
   },
   "outputs": [],
   "source": [
    "model.compile(optimizer='adam', loss='mean_squared_error', metrics=['mae'])"
   ]
  },
  {
   "cell_type": "markdown",
   "metadata": {
    "id": "54uSs3R1ckHB"
   },
   "source": []
  },
  {
   "cell_type": "code",
   "execution_count": null,
   "metadata": {
    "colab": {
     "base_uri": "https://localhost:8080/"
    },
    "executionInfo": {
     "elapsed": 202993,
     "status": "ok",
     "timestamp": 1711334625237,
     "user": {
      "displayName": "Priyanshu Gupta",
      "userId": "04165208456498233301"
     },
     "user_tz": -330
    },
    "id": "LIb45rttn3fY",
    "outputId": "d0943385-8847-47ce-b456-ad92480a58af"
   },
   "outputs": [
    {
     "name": "stdout",
     "output_type": "stream",
     "text": [
      "Epoch 1/500\n",
      "50/50 [==============================] - 1s 9ms/step - loss: 446078.1875 - mae: 246.3151 - val_loss: 5713.1465 - val_mae: 54.1580\n",
      "Epoch 2/500\n",
      "50/50 [==============================] - 0s 8ms/step - loss: 2506.2881 - mae: 37.8234 - val_loss: 4697.9653 - val_mae: 48.0838\n",
      "Epoch 3/500\n",
      "50/50 [==============================] - 0s 7ms/step - loss: 2250.2466 - mae: 36.3061 - val_loss: 4161.3730 - val_mae: 41.0403\n",
      "Epoch 4/500\n",
      "50/50 [==============================] - 0s 6ms/step - loss: 1881.8643 - mae: 31.4220 - val_loss: 4266.6338 - val_mae: 43.4910\n",
      "Epoch 5/500\n",
      "50/50 [==============================] - 0s 7ms/step - loss: 2026.6941 - mae: 33.6048 - val_loss: 4135.5840 - val_mae: 42.7161\n",
      "Epoch 6/500\n",
      "50/50 [==============================] - 0s 7ms/step - loss: 1782.1323 - mae: 30.4291 - val_loss: 4304.5918 - val_mae: 41.2859\n",
      "Epoch 7/500\n",
      "50/50 [==============================] - 0s 7ms/step - loss: 1795.2758 - mae: 30.5837 - val_loss: 4170.8667 - val_mae: 42.1392\n",
      "Epoch 8/500\n",
      "50/50 [==============================] - 0s 8ms/step - loss: 2129.3687 - mae: 34.0319 - val_loss: 4641.8721 - val_mae: 46.5756\n",
      "Epoch 9/500\n",
      "50/50 [==============================] - 0s 6ms/step - loss: 2086.0901 - mae: 33.8995 - val_loss: 4106.8818 - val_mae: 43.8238\n",
      "Epoch 10/500\n",
      "50/50 [==============================] - 0s 7ms/step - loss: 2387.1147 - mae: 37.6878 - val_loss: 5063.5034 - val_mae: 46.3296\n",
      "Epoch 11/500\n",
      "50/50 [==============================] - 0s 7ms/step - loss: 2029.4900 - mae: 34.3767 - val_loss: 5607.6587 - val_mae: 45.1430\n",
      "Epoch 12/500\n",
      "50/50 [==============================] - 0s 7ms/step - loss: 1720.8577 - mae: 29.7688 - val_loss: 4283.3613 - val_mae: 42.5905\n",
      "Epoch 13/500\n",
      "50/50 [==============================] - 0s 7ms/step - loss: 1805.1003 - mae: 31.0825 - val_loss: 4118.5752 - val_mae: 42.9913\n",
      "Epoch 14/500\n",
      "50/50 [==============================] - 0s 7ms/step - loss: 1733.1384 - mae: 30.0800 - val_loss: 4126.7329 - val_mae: 42.3521\n",
      "Epoch 15/500\n",
      "50/50 [==============================] - 0s 8ms/step - loss: 1759.1089 - mae: 31.0362 - val_loss: 4413.0747 - val_mae: 41.6017\n",
      "Epoch 16/500\n",
      "50/50 [==============================] - 0s 6ms/step - loss: 1679.0205 - mae: 29.5134 - val_loss: 4216.4282 - val_mae: 40.9376\n",
      "Epoch 17/500\n",
      "50/50 [==============================] - 0s 8ms/step - loss: 1575.4399 - mae: 28.3604 - val_loss: 4793.8154 - val_mae: 47.3087\n",
      "Epoch 18/500\n",
      "50/50 [==============================] - 0s 7ms/step - loss: 1685.2527 - mae: 30.2245 - val_loss: 4879.5020 - val_mae: 46.7124\n",
      "Epoch 19/500\n",
      "50/50 [==============================] - 0s 6ms/step - loss: 1684.5171 - mae: 29.2107 - val_loss: 4530.0073 - val_mae: 42.0292\n",
      "Epoch 20/500\n",
      "50/50 [==============================] - 0s 8ms/step - loss: 1935.9861 - mae: 32.7270 - val_loss: 4792.1611 - val_mae: 45.3106\n",
      "Epoch 21/500\n",
      "50/50 [==============================] - 1s 10ms/step - loss: 1726.6384 - mae: 30.3984 - val_loss: 4228.0718 - val_mae: 43.5218\n",
      "Epoch 22/500\n",
      "50/50 [==============================] - 1s 11ms/step - loss: 1681.6431 - mae: 30.0016 - val_loss: 5322.1279 - val_mae: 49.1487\n",
      "Epoch 23/500\n",
      "50/50 [==============================] - 0s 10ms/step - loss: 1638.9617 - mae: 30.2325 - val_loss: 4788.7427 - val_mae: 43.1666\n",
      "Epoch 24/500\n",
      "50/50 [==============================] - 1s 11ms/step - loss: 1612.7510 - mae: 29.7562 - val_loss: 4398.4951 - val_mae: 41.6184\n",
      "Epoch 25/500\n",
      "50/50 [==============================] - 0s 7ms/step - loss: 1393.0359 - mae: 26.4730 - val_loss: 4550.2373 - val_mae: 43.7035\n",
      "Epoch 26/500\n",
      "50/50 [==============================] - 0s 7ms/step - loss: 1321.4058 - mae: 25.5903 - val_loss: 4394.6572 - val_mae: 42.2455\n",
      "Epoch 27/500\n",
      "50/50 [==============================] - 0s 6ms/step - loss: 1479.2607 - mae: 27.8995 - val_loss: 5090.2871 - val_mae: 45.1932\n",
      "Epoch 28/500\n",
      "50/50 [==============================] - 0s 8ms/step - loss: 1343.9062 - mae: 26.2234 - val_loss: 4533.3638 - val_mae: 43.6016\n",
      "Epoch 29/500\n",
      "50/50 [==============================] - 0s 7ms/step - loss: 1392.0197 - mae: 26.9561 - val_loss: 4930.2886 - val_mae: 45.8230\n",
      "Epoch 30/500\n",
      "50/50 [==============================] - 0s 7ms/step - loss: 1306.9932 - mae: 25.7565 - val_loss: 4525.4668 - val_mae: 43.3330\n",
      "Epoch 31/500\n",
      "50/50 [==============================] - 0s 7ms/step - loss: 2440.5483 - mae: 32.6371 - val_loss: 8922.9053 - val_mae: 69.9010\n",
      "Epoch 32/500\n",
      "50/50 [==============================] - 0s 8ms/step - loss: 1965.3589 - mae: 32.1851 - val_loss: 5235.4907 - val_mae: 44.8876\n",
      "Epoch 33/500\n",
      "50/50 [==============================] - 0s 7ms/step - loss: 1974.7220 - mae: 30.1126 - val_loss: 4612.8975 - val_mae: 42.1827\n",
      "Epoch 34/500\n",
      "50/50 [==============================] - 0s 7ms/step - loss: 1455.3900 - mae: 26.9375 - val_loss: 4532.6060 - val_mae: 41.2340\n",
      "Epoch 35/500\n",
      "50/50 [==============================] - 0s 7ms/step - loss: 1386.7228 - mae: 25.8935 - val_loss: 4638.0854 - val_mae: 42.5724\n",
      "Epoch 36/500\n",
      "50/50 [==============================] - 0s 6ms/step - loss: 1443.1567 - mae: 26.7571 - val_loss: 4583.9883 - val_mae: 41.3836\n",
      "Epoch 37/500\n",
      "50/50 [==============================] - 0s 8ms/step - loss: 1302.2361 - mae: 24.9496 - val_loss: 4373.7314 - val_mae: 41.5010\n",
      "Epoch 38/500\n",
      "50/50 [==============================] - 0s 7ms/step - loss: 1324.6971 - mae: 25.6161 - val_loss: 4519.1470 - val_mae: 41.5398\n",
      "Epoch 39/500\n",
      "50/50 [==============================] - 0s 7ms/step - loss: 1305.3707 - mae: 25.4103 - val_loss: 5355.5439 - val_mae: 44.8630\n",
      "Epoch 40/500\n",
      "50/50 [==============================] - 0s 7ms/step - loss: 1278.1277 - mae: 25.0960 - val_loss: 4407.3682 - val_mae: 41.7068\n",
      "Epoch 41/500\n",
      "50/50 [==============================] - 0s 8ms/step - loss: 1250.4061 - mae: 24.8179 - val_loss: 4615.3711 - val_mae: 41.7364\n",
      "Epoch 42/500\n",
      "50/50 [==============================] - 0s 6ms/step - loss: 1186.5680 - mae: 24.1012 - val_loss: 4827.5786 - val_mae: 42.5631\n",
      "Epoch 43/500\n",
      "50/50 [==============================] - 0s 6ms/step - loss: 1274.1747 - mae: 25.3545 - val_loss: 4873.4854 - val_mae: 42.7405\n",
      "Epoch 44/500\n",
      "50/50 [==============================] - 0s 6ms/step - loss: 1266.0315 - mae: 25.3700 - val_loss: 4789.9512 - val_mae: 45.1805\n",
      "Epoch 45/500\n",
      "50/50 [==============================] - 0s 6ms/step - loss: 1227.6061 - mae: 24.5599 - val_loss: 4526.5049 - val_mae: 41.7867\n",
      "Epoch 46/500\n",
      "50/50 [==============================] - 0s 8ms/step - loss: 1118.4769 - mae: 23.2578 - val_loss: 4838.1289 - val_mae: 46.0275\n",
      "Epoch 47/500\n",
      "50/50 [==============================] - 0s 7ms/step - loss: 1188.5753 - mae: 24.2824 - val_loss: 4538.5933 - val_mae: 42.2874\n",
      "Epoch 48/500\n",
      "50/50 [==============================] - 0s 6ms/step - loss: 1105.0698 - mae: 23.2079 - val_loss: 4721.1816 - val_mae: 45.0939\n",
      "Epoch 49/500\n",
      "50/50 [==============================] - 0s 6ms/step - loss: 1159.7731 - mae: 24.1347 - val_loss: 4952.2148 - val_mae: 43.6780\n",
      "Epoch 50/500\n",
      "50/50 [==============================] - 0s 7ms/step - loss: 1091.1377 - mae: 23.0851 - val_loss: 4977.2490 - val_mae: 43.3908\n",
      "Epoch 51/500\n",
      "50/50 [==============================] - 0s 7ms/step - loss: 1115.0454 - mae: 23.6072 - val_loss: 4836.4062 - val_mae: 43.2428\n",
      "Epoch 52/500\n",
      "50/50 [==============================] - 0s 7ms/step - loss: 1020.5634 - mae: 21.8379 - val_loss: 4886.0049 - val_mae: 43.4568\n",
      "Epoch 53/500\n",
      "50/50 [==============================] - 0s 9ms/step - loss: 1156.6151 - mae: 23.7475 - val_loss: 4675.9922 - val_mae: 43.7312\n",
      "Epoch 54/500\n",
      "50/50 [==============================] - 1s 10ms/step - loss: 1096.5886 - mae: 22.9540 - val_loss: 4892.4312 - val_mae: 44.3307\n",
      "Epoch 55/500\n",
      "50/50 [==============================] - 1s 11ms/step - loss: 1039.6047 - mae: 22.4537 - val_loss: 5106.4536 - val_mae: 45.5711\n",
      "Epoch 56/500\n",
      "50/50 [==============================] - 1s 12ms/step - loss: 1127.8989 - mae: 23.9741 - val_loss: 4952.0254 - val_mae: 44.5155\n",
      "Epoch 57/500\n",
      "50/50 [==============================] - 0s 8ms/step - loss: 1073.8492 - mae: 22.7436 - val_loss: 5301.3921 - val_mae: 44.4659\n",
      "Epoch 58/500\n",
      "50/50 [==============================] - 0s 6ms/step - loss: 965.5349 - mae: 21.2538 - val_loss: 5019.7251 - val_mae: 43.6267\n",
      "Epoch 59/500\n",
      "50/50 [==============================] - 0s 6ms/step - loss: 1042.8081 - mae: 22.6737 - val_loss: 5064.4824 - val_mae: 43.3139\n",
      "Epoch 60/500\n",
      "50/50 [==============================] - 0s 7ms/step - loss: 993.2567 - mae: 21.7966 - val_loss: 5026.9053 - val_mae: 44.7738\n",
      "Epoch 61/500\n",
      "50/50 [==============================] - 0s 7ms/step - loss: 987.9204 - mae: 21.7800 - val_loss: 5360.7227 - val_mae: 46.0777\n",
      "Epoch 62/500\n",
      "50/50 [==============================] - 0s 7ms/step - loss: 939.2319 - mae: 21.0723 - val_loss: 5213.4946 - val_mae: 44.3323\n",
      "Epoch 63/500\n",
      "50/50 [==============================] - 0s 7ms/step - loss: 916.9659 - mae: 20.8647 - val_loss: 4894.8032 - val_mae: 43.2111\n",
      "Epoch 64/500\n",
      "50/50 [==============================] - 0s 7ms/step - loss: 897.9543 - mae: 20.3750 - val_loss: 5311.6118 - val_mae: 45.3012\n",
      "Epoch 65/500\n",
      "50/50 [==============================] - 0s 7ms/step - loss: 872.8738 - mae: 20.5298 - val_loss: 4901.8872 - val_mae: 43.4890\n",
      "Epoch 66/500\n",
      "50/50 [==============================] - 0s 7ms/step - loss: 846.0304 - mae: 19.7600 - val_loss: 4838.2295 - val_mae: 44.4268\n",
      "Epoch 67/500\n",
      "50/50 [==============================] - 0s 7ms/step - loss: 810.3692 - mae: 19.3814 - val_loss: 5225.3369 - val_mae: 44.1445\n",
      "Epoch 68/500\n",
      "50/50 [==============================] - 0s 7ms/step - loss: 846.9485 - mae: 20.0018 - val_loss: 5222.0151 - val_mae: 44.7678\n",
      "Epoch 69/500\n",
      "50/50 [==============================] - 0s 6ms/step - loss: 864.2424 - mae: 20.3668 - val_loss: 5252.9971 - val_mae: 45.1195\n",
      "Epoch 70/500\n",
      "50/50 [==============================] - 0s 6ms/step - loss: 815.1894 - mae: 19.3400 - val_loss: 5208.9736 - val_mae: 44.6910\n",
      "Epoch 71/500\n",
      "50/50 [==============================] - 0s 6ms/step - loss: 798.3600 - mae: 19.4031 - val_loss: 5450.9033 - val_mae: 45.3849\n",
      "Epoch 72/500\n",
      "50/50 [==============================] - 0s 7ms/step - loss: 959.0324 - mae: 21.5686 - val_loss: 4946.3506 - val_mae: 43.3688\n",
      "Epoch 73/500\n",
      "50/50 [==============================] - 0s 7ms/step - loss: 906.4540 - mae: 21.0003 - val_loss: 5063.9683 - val_mae: 44.9729\n",
      "Epoch 74/500\n",
      "50/50 [==============================] - 0s 8ms/step - loss: 911.1782 - mae: 21.0251 - val_loss: 5845.3018 - val_mae: 49.0484\n",
      "Epoch 75/500\n",
      "50/50 [==============================] - 0s 6ms/step - loss: 884.0670 - mae: 20.5424 - val_loss: 9688.1904 - val_mae: 81.9338\n",
      "Epoch 76/500\n",
      "50/50 [==============================] - 0s 7ms/step - loss: 1631.6764 - mae: 28.6797 - val_loss: 4971.5386 - val_mae: 43.2082\n",
      "Epoch 77/500\n",
      "50/50 [==============================] - 0s 7ms/step - loss: 1198.3430 - mae: 23.9763 - val_loss: 4807.3008 - val_mae: 44.2510\n",
      "Epoch 78/500\n",
      "50/50 [==============================] - 0s 7ms/step - loss: 1051.9095 - mae: 22.6511 - val_loss: 5247.8379 - val_mae: 44.7711\n",
      "Epoch 79/500\n",
      "50/50 [==============================] - 0s 7ms/step - loss: 997.3197 - mae: 21.6256 - val_loss: 5088.8960 - val_mae: 44.2034\n",
      "Epoch 80/500\n",
      "50/50 [==============================] - 0s 7ms/step - loss: 882.0972 - mae: 20.1548 - val_loss: 5375.6187 - val_mae: 45.2720\n",
      "Epoch 81/500\n",
      "50/50 [==============================] - 0s 7ms/step - loss: 769.0999 - mae: 18.6506 - val_loss: 5145.5884 - val_mae: 45.0142\n",
      "Epoch 82/500\n",
      "50/50 [==============================] - 0s 7ms/step - loss: 904.7985 - mae: 20.9311 - val_loss: 5857.3081 - val_mae: 47.5495\n",
      "Epoch 83/500\n",
      "50/50 [==============================] - 0s 7ms/step - loss: 1043.0305 - mae: 22.4900 - val_loss: 5320.8096 - val_mae: 45.7555\n",
      "Epoch 84/500\n",
      "50/50 [==============================] - 0s 8ms/step - loss: 824.4754 - mae: 19.8191 - val_loss: 5405.0879 - val_mae: 47.0566\n",
      "Epoch 85/500\n",
      "50/50 [==============================] - 0s 8ms/step - loss: 1160.7249 - mae: 23.6656 - val_loss: 4804.2246 - val_mae: 44.0860\n",
      "Epoch 86/500\n",
      "50/50 [==============================] - 1s 10ms/step - loss: 980.1092 - mae: 21.2656 - val_loss: 5242.7920 - val_mae: 45.0732\n",
      "Epoch 87/500\n",
      "50/50 [==============================] - 0s 10ms/step - loss: 964.7349 - mae: 21.3411 - val_loss: 5612.9707 - val_mae: 46.6453\n",
      "Epoch 88/500\n",
      "50/50 [==============================] - 1s 11ms/step - loss: 939.9229 - mae: 20.9387 - val_loss: 5479.7119 - val_mae: 44.8987\n",
      "Epoch 89/500\n",
      "50/50 [==============================] - 1s 11ms/step - loss: 814.4128 - mae: 19.4143 - val_loss: 5136.8071 - val_mae: 44.7745\n",
      "Epoch 90/500\n",
      "50/50 [==============================] - 0s 8ms/step - loss: 735.0089 - mae: 18.4601 - val_loss: 5432.8345 - val_mae: 46.1503\n",
      "Epoch 91/500\n",
      "50/50 [==============================] - 0s 6ms/step - loss: 714.2929 - mae: 17.8570 - val_loss: 5343.6250 - val_mae: 45.4350\n",
      "Epoch 92/500\n",
      "50/50 [==============================] - 0s 7ms/step - loss: 683.9671 - mae: 17.6515 - val_loss: 5301.5068 - val_mae: 45.1789\n",
      "Epoch 93/500\n",
      "50/50 [==============================] - 0s 7ms/step - loss: 732.8973 - mae: 18.5557 - val_loss: 5605.0444 - val_mae: 47.0852\n",
      "Epoch 94/500\n",
      "50/50 [==============================] - 0s 6ms/step - loss: 781.0865 - mae: 19.1673 - val_loss: 5316.6577 - val_mae: 45.0500\n",
      "Epoch 95/500\n",
      "50/50 [==============================] - 0s 6ms/step - loss: 803.8999 - mae: 19.4262 - val_loss: 5912.8901 - val_mae: 48.9068\n",
      "Epoch 96/500\n",
      "50/50 [==============================] - 0s 8ms/step - loss: 1058.1656 - mae: 22.7031 - val_loss: 5593.6621 - val_mae: 47.9248\n",
      "Epoch 97/500\n",
      "50/50 [==============================] - 0s 7ms/step - loss: 794.3309 - mae: 19.6650 - val_loss: 5429.3579 - val_mae: 47.4222\n",
      "Epoch 98/500\n",
      "50/50 [==============================] - 0s 7ms/step - loss: 852.9554 - mae: 20.0230 - val_loss: 5440.3779 - val_mae: 45.8517\n",
      "Epoch 99/500\n",
      "50/50 [==============================] - 0s 8ms/step - loss: 809.6711 - mae: 19.4125 - val_loss: 5600.1523 - val_mae: 46.9897\n",
      "Epoch 100/500\n",
      "50/50 [==============================] - 0s 8ms/step - loss: 758.4518 - mae: 18.7547 - val_loss: 5323.3936 - val_mae: 45.4743\n",
      "Epoch 101/500\n",
      "50/50 [==============================] - 0s 8ms/step - loss: 805.9515 - mae: 19.6171 - val_loss: 5251.0288 - val_mae: 44.3589\n",
      "Epoch 102/500\n",
      "50/50 [==============================] - 0s 7ms/step - loss: 820.4828 - mae: 19.8042 - val_loss: 5596.0532 - val_mae: 46.6379\n",
      "Epoch 103/500\n",
      "50/50 [==============================] - 0s 6ms/step - loss: 751.4280 - mae: 18.5362 - val_loss: 5270.7251 - val_mae: 45.8722\n",
      "Epoch 104/500\n",
      "50/50 [==============================] - 0s 8ms/step - loss: 999.7426 - mae: 21.8979 - val_loss: 6036.3921 - val_mae: 47.2123\n",
      "Epoch 105/500\n",
      "50/50 [==============================] - 0s 8ms/step - loss: 875.8848 - mae: 20.5059 - val_loss: 6001.5938 - val_mae: 46.8090\n",
      "Epoch 106/500\n",
      "50/50 [==============================] - 0s 7ms/step - loss: 1007.8378 - mae: 21.9281 - val_loss: 5643.1167 - val_mae: 45.6853\n",
      "Epoch 107/500\n",
      "50/50 [==============================] - 0s 7ms/step - loss: 847.9994 - mae: 20.1724 - val_loss: 5329.2144 - val_mae: 45.4722\n",
      "Epoch 108/500\n",
      "50/50 [==============================] - 0s 8ms/step - loss: 824.9930 - mae: 20.1828 - val_loss: 5856.8242 - val_mae: 46.9140\n",
      "Epoch 109/500\n",
      "50/50 [==============================] - 0s 8ms/step - loss: 818.3793 - mae: 19.7411 - val_loss: 5124.3848 - val_mae: 44.1087\n",
      "Epoch 110/500\n",
      "50/50 [==============================] - 0s 7ms/step - loss: 832.5344 - mae: 20.2429 - val_loss: 5341.4067 - val_mae: 45.1321\n",
      "Epoch 111/500\n",
      "50/50 [==============================] - 0s 7ms/step - loss: 736.8920 - mae: 18.7911 - val_loss: 5941.9263 - val_mae: 47.3588\n",
      "Epoch 112/500\n",
      "50/50 [==============================] - 0s 6ms/step - loss: 702.1562 - mae: 17.8564 - val_loss: 6023.9746 - val_mae: 49.0274\n",
      "Epoch 113/500\n",
      "50/50 [==============================] - 0s 6ms/step - loss: 651.9345 - mae: 17.6873 - val_loss: 6074.8867 - val_mae: 49.5333\n",
      "Epoch 114/500\n",
      "50/50 [==============================] - 0s 7ms/step - loss: 646.3887 - mae: 17.2324 - val_loss: 6057.7183 - val_mae: 48.6038\n",
      "Epoch 115/500\n",
      "50/50 [==============================] - 0s 8ms/step - loss: 657.0938 - mae: 17.4427 - val_loss: 5669.4258 - val_mae: 46.7256\n",
      "Epoch 116/500\n",
      "50/50 [==============================] - 0s 7ms/step - loss: 683.9136 - mae: 17.9913 - val_loss: 5459.5107 - val_mae: 47.0228\n",
      "Epoch 117/500\n",
      "50/50 [==============================] - 0s 7ms/step - loss: 757.6440 - mae: 18.7849 - val_loss: 5660.5708 - val_mae: 47.4707\n",
      "Epoch 118/500\n",
      "50/50 [==============================] - 1s 11ms/step - loss: 879.4927 - mae: 20.5738 - val_loss: 5324.4712 - val_mae: 47.5545\n",
      "Epoch 119/500\n",
      "50/50 [==============================] - 0s 10ms/step - loss: 1004.1794 - mae: 21.9260 - val_loss: 5110.2573 - val_mae: 46.0647\n",
      "Epoch 120/500\n",
      "50/50 [==============================] - 1s 11ms/step - loss: 1401.2297 - mae: 26.0212 - val_loss: 5314.7627 - val_mae: 45.4942\n",
      "Epoch 121/500\n",
      "50/50 [==============================] - 1s 12ms/step - loss: 1073.6604 - mae: 22.6575 - val_loss: 5701.1763 - val_mae: 46.8233\n",
      "Epoch 122/500\n",
      "50/50 [==============================] - 0s 6ms/step - loss: 761.4817 - mae: 18.8819 - val_loss: 6131.7026 - val_mae: 48.6024\n",
      "Epoch 123/500\n",
      "50/50 [==============================] - 0s 7ms/step - loss: 793.8395 - mae: 19.1941 - val_loss: 5512.9707 - val_mae: 46.4690\n",
      "Epoch 124/500\n",
      "50/50 [==============================] - 0s 7ms/step - loss: 796.6483 - mae: 19.5083 - val_loss: 5904.8481 - val_mae: 47.6581\n",
      "Epoch 125/500\n",
      "50/50 [==============================] - 0s 7ms/step - loss: 657.5508 - mae: 17.3533 - val_loss: 5215.7905 - val_mae: 44.9627\n",
      "Epoch 126/500\n",
      "50/50 [==============================] - 0s 7ms/step - loss: 690.6663 - mae: 17.6748 - val_loss: 5943.3237 - val_mae: 47.2674\n",
      "Epoch 127/500\n",
      "50/50 [==============================] - 0s 7ms/step - loss: 630.9782 - mae: 17.0091 - val_loss: 6242.9746 - val_mae: 48.5352\n",
      "Epoch 128/500\n",
      "50/50 [==============================] - 0s 7ms/step - loss: 667.6761 - mae: 17.5168 - val_loss: 5787.1973 - val_mae: 46.5865\n",
      "Epoch 129/500\n",
      "50/50 [==============================] - 0s 7ms/step - loss: 683.8451 - mae: 17.4057 - val_loss: 6085.4800 - val_mae: 49.3279\n",
      "Epoch 130/500\n",
      "50/50 [==============================] - 0s 7ms/step - loss: 813.6617 - mae: 19.6543 - val_loss: 5783.4351 - val_mae: 47.1415\n",
      "Epoch 131/500\n",
      "50/50 [==============================] - 0s 7ms/step - loss: 703.8370 - mae: 18.1770 - val_loss: 5857.8521 - val_mae: 46.7847\n",
      "Epoch 132/500\n",
      "50/50 [==============================] - 0s 7ms/step - loss: 581.6249 - mae: 16.1840 - val_loss: 6022.9258 - val_mae: 47.8026\n",
      "Epoch 133/500\n",
      "50/50 [==============================] - 0s 7ms/step - loss: 602.5330 - mae: 16.3383 - val_loss: 5435.0894 - val_mae: 45.0385\n",
      "Epoch 134/500\n",
      "50/50 [==============================] - 0s 6ms/step - loss: 587.2383 - mae: 16.1727 - val_loss: 5954.3652 - val_mae: 47.1961\n",
      "Epoch 135/500\n",
      "50/50 [==============================] - 0s 7ms/step - loss: 669.3179 - mae: 17.2029 - val_loss: 6184.5542 - val_mae: 48.1801\n",
      "Epoch 136/500\n",
      "50/50 [==============================] - 0s 7ms/step - loss: 694.8873 - mae: 17.8669 - val_loss: 5889.0049 - val_mae: 47.4011\n",
      "Epoch 137/500\n",
      "50/50 [==============================] - 0s 7ms/step - loss: 652.0712 - mae: 16.9947 - val_loss: 5753.9336 - val_mae: 45.8559\n",
      "Epoch 138/500\n",
      "50/50 [==============================] - 0s 8ms/step - loss: 771.4423 - mae: 18.3343 - val_loss: 5320.2432 - val_mae: 44.9298\n",
      "Epoch 139/500\n",
      "50/50 [==============================] - 0s 8ms/step - loss: 813.4398 - mae: 18.8858 - val_loss: 5242.2637 - val_mae: 43.7352\n",
      "Epoch 140/500\n",
      "50/50 [==============================] - 0s 7ms/step - loss: 694.6272 - mae: 17.4317 - val_loss: 6032.4849 - val_mae: 47.8611\n",
      "Epoch 141/500\n",
      "50/50 [==============================] - 0s 7ms/step - loss: 715.2202 - mae: 17.4881 - val_loss: 5597.9268 - val_mae: 46.4134\n",
      "Epoch 142/500\n",
      "50/50 [==============================] - 0s 8ms/step - loss: 770.7205 - mae: 18.1003 - val_loss: 5545.6045 - val_mae: 45.1310\n",
      "Epoch 143/500\n",
      "50/50 [==============================] - 0s 6ms/step - loss: 837.4701 - mae: 19.1366 - val_loss: 5150.6011 - val_mae: 44.2606\n",
      "Epoch 144/500\n",
      "50/50 [==============================] - 0s 6ms/step - loss: 779.3685 - mae: 18.3945 - val_loss: 5086.0723 - val_mae: 43.3284\n",
      "Epoch 145/500\n",
      "50/50 [==============================] - 0s 8ms/step - loss: 738.8639 - mae: 17.6854 - val_loss: 6160.6094 - val_mae: 46.7499\n",
      "Epoch 146/500\n",
      "50/50 [==============================] - 0s 7ms/step - loss: 601.6877 - mae: 15.9970 - val_loss: 6120.6362 - val_mae: 48.1559\n",
      "Epoch 147/500\n",
      "50/50 [==============================] - 0s 7ms/step - loss: 917.4771 - mae: 19.9842 - val_loss: 5745.0220 - val_mae: 46.7290\n",
      "Epoch 148/500\n",
      "50/50 [==============================] - 0s 7ms/step - loss: 681.7892 - mae: 17.0020 - val_loss: 5581.3496 - val_mae: 46.2287\n",
      "Epoch 149/500\n",
      "50/50 [==============================] - 0s 8ms/step - loss: 740.1101 - mae: 17.4670 - val_loss: 6737.8906 - val_mae: 49.1108\n",
      "Epoch 150/500\n",
      "50/50 [==============================] - 0s 10ms/step - loss: 718.3985 - mae: 17.5534 - val_loss: 6901.8911 - val_mae: 49.6429\n",
      "Epoch 151/500\n",
      "50/50 [==============================] - 1s 10ms/step - loss: 810.5171 - mae: 18.4119 - val_loss: 5548.2837 - val_mae: 45.8985\n",
      "Epoch 152/500\n",
      "50/50 [==============================] - 1s 10ms/step - loss: 625.9386 - mae: 16.4569 - val_loss: 6495.8149 - val_mae: 48.0020\n",
      "Epoch 153/500\n",
      "50/50 [==============================] - 1s 12ms/step - loss: 566.1143 - mae: 15.3229 - val_loss: 6055.1475 - val_mae: 47.6311\n",
      "Epoch 154/500\n",
      "50/50 [==============================] - 0s 9ms/step - loss: 618.3459 - mae: 15.7376 - val_loss: 6312.4390 - val_mae: 47.8857\n",
      "Epoch 155/500\n",
      "50/50 [==============================] - 0s 7ms/step - loss: 780.0595 - mae: 18.2533 - val_loss: 5739.0098 - val_mae: 45.3994\n",
      "Epoch 156/500\n",
      "50/50 [==============================] - 0s 6ms/step - loss: 554.9113 - mae: 15.0089 - val_loss: 6039.0527 - val_mae: 45.9816\n",
      "Epoch 157/500\n",
      "50/50 [==============================] - 0s 7ms/step - loss: 541.0610 - mae: 14.5991 - val_loss: 6028.6274 - val_mae: 47.6315\n",
      "Epoch 158/500\n",
      "50/50 [==============================] - 0s 7ms/step - loss: 999.4808 - mae: 21.1055 - val_loss: 6073.3662 - val_mae: 46.1989\n",
      "Epoch 159/500\n",
      "50/50 [==============================] - 0s 7ms/step - loss: 907.9504 - mae: 19.5431 - val_loss: 5509.1187 - val_mae: 45.2651\n",
      "Epoch 160/500\n",
      "50/50 [==============================] - 0s 6ms/step - loss: 853.5474 - mae: 19.1221 - val_loss: 6615.0186 - val_mae: 48.9879\n",
      "Epoch 161/500\n",
      "50/50 [==============================] - 0s 7ms/step - loss: 934.3889 - mae: 19.9457 - val_loss: 6327.1431 - val_mae: 47.3599\n",
      "Epoch 162/500\n",
      "50/50 [==============================] - 0s 7ms/step - loss: 931.1802 - mae: 20.2016 - val_loss: 5590.2861 - val_mae: 45.2296\n",
      "Epoch 163/500\n",
      "50/50 [==============================] - 0s 8ms/step - loss: 705.8512 - mae: 17.0550 - val_loss: 5666.7217 - val_mae: 46.1995\n",
      "Epoch 164/500\n",
      "50/50 [==============================] - 0s 7ms/step - loss: 928.5795 - mae: 19.9273 - val_loss: 6177.8164 - val_mae: 47.2391\n",
      "Epoch 165/500\n",
      "50/50 [==============================] - 0s 7ms/step - loss: 635.3373 - mae: 16.2892 - val_loss: 6350.6006 - val_mae: 47.3933\n",
      "Epoch 166/500\n",
      "50/50 [==============================] - 0s 8ms/step - loss: 678.5237 - mae: 16.7593 - val_loss: 5413.5908 - val_mae: 44.7937\n",
      "Epoch 167/500\n",
      "50/50 [==============================] - 0s 7ms/step - loss: 577.0818 - mae: 15.3069 - val_loss: 5837.9932 - val_mae: 46.1978\n",
      "Epoch 168/500\n",
      "50/50 [==============================] - 0s 7ms/step - loss: 703.4041 - mae: 17.1687 - val_loss: 5537.0220 - val_mae: 43.4157\n",
      "Epoch 169/500\n",
      "50/50 [==============================] - 0s 7ms/step - loss: 733.3030 - mae: 17.4635 - val_loss: 5533.1367 - val_mae: 44.7168\n",
      "Epoch 170/500\n",
      "50/50 [==============================] - 0s 6ms/step - loss: 534.7658 - mae: 14.8067 - val_loss: 5407.1895 - val_mae: 45.6318\n",
      "Epoch 171/500\n",
      "50/50 [==============================] - 0s 7ms/step - loss: 678.0863 - mae: 16.9661 - val_loss: 5741.3262 - val_mae: 45.3969\n",
      "Epoch 172/500\n",
      "50/50 [==============================] - 0s 7ms/step - loss: 607.9666 - mae: 15.7090 - val_loss: 6529.9136 - val_mae: 47.8541\n",
      "Epoch 173/500\n",
      "50/50 [==============================] - 0s 7ms/step - loss: 787.6260 - mae: 18.4067 - val_loss: 5600.3882 - val_mae: 43.9457\n",
      "Epoch 174/500\n",
      "50/50 [==============================] - 0s 7ms/step - loss: 915.5302 - mae: 19.4821 - val_loss: 4658.8203 - val_mae: 42.0453\n",
      "Epoch 175/500\n",
      "50/50 [==============================] - 0s 7ms/step - loss: 1125.0688 - mae: 21.9748 - val_loss: 7026.2383 - val_mae: 51.0583\n",
      "Epoch 176/500\n",
      "50/50 [==============================] - 0s 7ms/step - loss: 1041.8054 - mae: 21.0136 - val_loss: 5395.0151 - val_mae: 47.1947\n",
      "Epoch 177/500\n",
      "50/50 [==============================] - 0s 8ms/step - loss: 1309.7279 - mae: 23.6941 - val_loss: 5126.1880 - val_mae: 42.7718\n",
      "Epoch 178/500\n",
      "50/50 [==============================] - 0s 7ms/step - loss: 1490.8816 - mae: 25.3283 - val_loss: 5132.8110 - val_mae: 42.1074\n",
      "Epoch 179/500\n",
      "50/50 [==============================] - 0s 7ms/step - loss: 1200.1542 - mae: 22.2376 - val_loss: 5182.3804 - val_mae: 43.2100\n",
      "Epoch 180/500\n",
      "50/50 [==============================] - 0s 7ms/step - loss: 1086.8058 - mae: 21.3142 - val_loss: 5554.8281 - val_mae: 44.0227\n",
      "Epoch 181/500\n",
      "50/50 [==============================] - 0s 8ms/step - loss: 872.6964 - mae: 19.0789 - val_loss: 5988.8667 - val_mae: 46.4310\n",
      "Epoch 182/500\n",
      "50/50 [==============================] - 1s 12ms/step - loss: 888.5361 - mae: 19.4467 - val_loss: 5228.6724 - val_mae: 42.9883\n",
      "Epoch 183/500\n",
      "50/50 [==============================] - 1s 10ms/step - loss: 962.4127 - mae: 20.5923 - val_loss: 4990.6357 - val_mae: 42.5982\n",
      "Epoch 184/500\n",
      "50/50 [==============================] - 1s 11ms/step - loss: 790.3767 - mae: 18.4062 - val_loss: 5819.5864 - val_mae: 44.9570\n",
      "Epoch 185/500\n",
      "50/50 [==============================] - 1s 11ms/step - loss: 774.5831 - mae: 18.0555 - val_loss: 6117.4458 - val_mae: 46.4971\n",
      "Epoch 186/500\n",
      "50/50 [==============================] - 0s 9ms/step - loss: 662.8063 - mae: 16.3284 - val_loss: 5854.6768 - val_mae: 45.1571\n",
      "Epoch 187/500\n",
      "50/50 [==============================] - 0s 6ms/step - loss: 584.1448 - mae: 15.4007 - val_loss: 5866.8691 - val_mae: 46.2492\n",
      "Epoch 188/500\n",
      "50/50 [==============================] - 0s 7ms/step - loss: 558.3251 - mae: 15.0746 - val_loss: 5746.2383 - val_mae: 45.7973\n",
      "Epoch 189/500\n",
      "50/50 [==============================] - 0s 7ms/step - loss: 594.0789 - mae: 15.4852 - val_loss: 5632.9829 - val_mae: 44.6169\n",
      "Epoch 190/500\n",
      "50/50 [==============================] - 0s 6ms/step - loss: 590.2504 - mae: 15.5158 - val_loss: 5920.8711 - val_mae: 44.5508\n",
      "Epoch 191/500\n",
      "50/50 [==============================] - 0s 8ms/step - loss: 627.4176 - mae: 16.2041 - val_loss: 6077.9644 - val_mae: 46.9002\n",
      "Epoch 192/500\n",
      "50/50 [==============================] - 0s 7ms/step - loss: 629.8094 - mae: 16.1971 - val_loss: 5847.4463 - val_mae: 45.5317\n",
      "Epoch 193/500\n",
      "50/50 [==============================] - 0s 6ms/step - loss: 495.0478 - mae: 13.9504 - val_loss: 6410.6611 - val_mae: 46.9402\n",
      "Epoch 194/500\n",
      "50/50 [==============================] - 0s 6ms/step - loss: 746.7873 - mae: 17.6840 - val_loss: 5316.7061 - val_mae: 44.0504\n",
      "Epoch 195/500\n",
      "50/50 [==============================] - 0s 8ms/step - loss: 813.5328 - mae: 18.6903 - val_loss: 6230.1006 - val_mae: 47.4743\n",
      "Epoch 196/500\n",
      "50/50 [==============================] - 0s 8ms/step - loss: 849.5957 - mae: 19.0891 - val_loss: 6421.9727 - val_mae: 47.8208\n",
      "Epoch 197/500\n",
      "50/50 [==============================] - 0s 8ms/step - loss: 940.7520 - mae: 20.0595 - val_loss: 5433.0195 - val_mae: 43.2635\n",
      "Epoch 198/500\n",
      "50/50 [==============================] - 0s 7ms/step - loss: 802.7441 - mae: 18.1501 - val_loss: 6700.6689 - val_mae: 49.9278\n",
      "Epoch 199/500\n",
      "50/50 [==============================] - 0s 7ms/step - loss: 740.7428 - mae: 17.6918 - val_loss: 5856.6504 - val_mae: 45.3835\n",
      "Epoch 200/500\n",
      "50/50 [==============================] - 0s 7ms/step - loss: 564.0953 - mae: 14.8739 - val_loss: 5722.2969 - val_mae: 45.8774\n",
      "Epoch 201/500\n",
      "50/50 [==============================] - 0s 7ms/step - loss: 551.2165 - mae: 14.9896 - val_loss: 6148.3027 - val_mae: 46.4144\n",
      "Epoch 202/500\n",
      "50/50 [==============================] - 0s 6ms/step - loss: 663.8409 - mae: 16.5495 - val_loss: 5341.6650 - val_mae: 43.8252\n",
      "Epoch 203/500\n",
      "50/50 [==============================] - 0s 7ms/step - loss: 540.9578 - mae: 14.4378 - val_loss: 5899.7598 - val_mae: 44.8943\n",
      "Epoch 204/500\n",
      "50/50 [==============================] - 0s 7ms/step - loss: 718.7731 - mae: 17.4257 - val_loss: 6736.8237 - val_mae: 49.4538\n",
      "Epoch 205/500\n",
      "50/50 [==============================] - 0s 7ms/step - loss: 578.0304 - mae: 15.2342 - val_loss: 5472.6543 - val_mae: 44.5272\n",
      "Epoch 206/500\n",
      "50/50 [==============================] - 0s 7ms/step - loss: 755.9138 - mae: 17.6341 - val_loss: 5878.8184 - val_mae: 45.0641\n",
      "Epoch 207/500\n",
      "50/50 [==============================] - 0s 6ms/step - loss: 737.1501 - mae: 17.4496 - val_loss: 5279.3921 - val_mae: 43.8769\n",
      "Epoch 208/500\n",
      "50/50 [==============================] - 0s 7ms/step - loss: 680.5553 - mae: 17.1078 - val_loss: 5979.0850 - val_mae: 45.4347\n",
      "Epoch 209/500\n",
      "50/50 [==============================] - 0s 7ms/step - loss: 598.0559 - mae: 15.5283 - val_loss: 5843.1650 - val_mae: 44.6726\n",
      "Epoch 210/500\n",
      "50/50 [==============================] - 0s 7ms/step - loss: 633.2071 - mae: 16.2643 - val_loss: 6583.1758 - val_mae: 47.5431\n",
      "Epoch 211/500\n",
      "50/50 [==============================] - 0s 7ms/step - loss: 821.3031 - mae: 18.3981 - val_loss: 6861.7764 - val_mae: 52.7284\n",
      "Epoch 212/500\n",
      "50/50 [==============================] - 0s 7ms/step - loss: 1052.4069 - mae: 21.0499 - val_loss: 6042.9800 - val_mae: 45.6766\n",
      "Epoch 213/500\n",
      "50/50 [==============================] - 0s 7ms/step - loss: 860.5648 - mae: 19.1256 - val_loss: 6048.6606 - val_mae: 46.3438\n",
      "Epoch 214/500\n",
      "50/50 [==============================] - 1s 10ms/step - loss: 1091.1764 - mae: 22.0647 - val_loss: 5079.0298 - val_mae: 41.7753\n",
      "Epoch 215/500\n",
      "50/50 [==============================] - 1s 11ms/step - loss: 822.3028 - mae: 18.3566 - val_loss: 5646.3594 - val_mae: 43.6962\n",
      "Epoch 216/500\n",
      "50/50 [==============================] - 1s 10ms/step - loss: 621.3235 - mae: 15.9017 - val_loss: 6081.8105 - val_mae: 48.8346\n",
      "Epoch 217/500\n",
      "50/50 [==============================] - 1s 11ms/step - loss: 699.0250 - mae: 17.2787 - val_loss: 5621.8286 - val_mae: 45.1397\n",
      "Epoch 218/500\n",
      "50/50 [==============================] - 0s 8ms/step - loss: 629.0394 - mae: 16.1671 - val_loss: 6574.5698 - val_mae: 48.5927\n",
      "Epoch 219/500\n",
      "50/50 [==============================] - 0s 8ms/step - loss: 492.0654 - mae: 14.0721 - val_loss: 5957.1318 - val_mae: 46.0051\n",
      "Epoch 220/500\n",
      "50/50 [==============================] - 0s 7ms/step - loss: 572.7727 - mae: 15.7167 - val_loss: 5831.9756 - val_mae: 44.4972\n",
      "Epoch 221/500\n",
      "50/50 [==============================] - 0s 6ms/step - loss: 607.3277 - mae: 16.0664 - val_loss: 5771.8188 - val_mae: 45.2573\n",
      "Epoch 222/500\n",
      "50/50 [==============================] - 0s 7ms/step - loss: 602.3008 - mae: 15.7199 - val_loss: 5351.5879 - val_mae: 45.1743\n",
      "Epoch 223/500\n",
      "50/50 [==============================] - 0s 7ms/step - loss: 664.4235 - mae: 16.5702 - val_loss: 5830.4424 - val_mae: 47.1720\n",
      "Epoch 224/500\n",
      "50/50 [==============================] - 0s 7ms/step - loss: 806.0909 - mae: 18.3255 - val_loss: 5490.2432 - val_mae: 44.0719\n",
      "Epoch 225/500\n",
      "50/50 [==============================] - 0s 8ms/step - loss: 634.0483 - mae: 16.1573 - val_loss: 5797.9556 - val_mae: 45.6522\n",
      "Epoch 226/500\n",
      "50/50 [==============================] - 0s 7ms/step - loss: 1172.2148 - mae: 22.2702 - val_loss: 6087.8745 - val_mae: 46.7672\n",
      "Epoch 227/500\n",
      "50/50 [==============================] - 0s 8ms/step - loss: 1190.2035 - mae: 22.9005 - val_loss: 6007.0532 - val_mae: 46.7886\n",
      "Epoch 228/500\n",
      "50/50 [==============================] - 0s 8ms/step - loss: 1072.9750 - mae: 21.0172 - val_loss: 5349.4580 - val_mae: 44.0156\n",
      "Epoch 229/500\n",
      "50/50 [==============================] - 0s 7ms/step - loss: 1082.4128 - mae: 21.5274 - val_loss: 5609.5156 - val_mae: 43.6835\n",
      "Epoch 230/500\n",
      "50/50 [==============================] - 0s 7ms/step - loss: 725.1843 - mae: 17.2733 - val_loss: 5791.9780 - val_mae: 45.3445\n",
      "Epoch 231/500\n",
      "50/50 [==============================] - 0s 7ms/step - loss: 747.6710 - mae: 17.8531 - val_loss: 5580.2227 - val_mae: 44.8071\n",
      "Epoch 232/500\n",
      "50/50 [==============================] - 0s 7ms/step - loss: 726.1641 - mae: 17.8868 - val_loss: 5235.8389 - val_mae: 43.4299\n",
      "Epoch 233/500\n",
      "50/50 [==============================] - 0s 7ms/step - loss: 575.6704 - mae: 15.3466 - val_loss: 5853.3130 - val_mae: 45.2329\n",
      "Epoch 234/500\n",
      "50/50 [==============================] - 0s 7ms/step - loss: 610.2273 - mae: 15.8355 - val_loss: 5617.2119 - val_mae: 45.7164\n",
      "Epoch 235/500\n",
      "50/50 [==============================] - 0s 6ms/step - loss: 786.3833 - mae: 18.7599 - val_loss: 5711.1030 - val_mae: 44.4916\n",
      "Epoch 236/500\n",
      "50/50 [==============================] - 0s 7ms/step - loss: 674.0555 - mae: 17.1121 - val_loss: 6663.1743 - val_mae: 48.6740\n",
      "Epoch 237/500\n",
      "50/50 [==============================] - 0s 8ms/step - loss: 561.7766 - mae: 14.9262 - val_loss: 5593.9468 - val_mae: 46.0096\n",
      "Epoch 238/500\n",
      "50/50 [==============================] - 0s 7ms/step - loss: 653.3497 - mae: 16.6202 - val_loss: 5835.6758 - val_mae: 46.3111\n",
      "Epoch 239/500\n",
      "50/50 [==============================] - 0s 8ms/step - loss: 589.9832 - mae: 15.6762 - val_loss: 5537.3398 - val_mae: 43.7903\n",
      "Epoch 240/500\n",
      "50/50 [==============================] - 0s 7ms/step - loss: 730.9600 - mae: 17.5092 - val_loss: 6395.8770 - val_mae: 46.8848\n",
      "Epoch 241/500\n",
      "50/50 [==============================] - 0s 6ms/step - loss: 682.4191 - mae: 16.8454 - val_loss: 6137.9692 - val_mae: 47.0736\n",
      "Epoch 242/500\n",
      "50/50 [==============================] - 0s 7ms/step - loss: 598.8713 - mae: 15.6171 - val_loss: 6180.0938 - val_mae: 45.3786\n",
      "Epoch 243/500\n",
      "50/50 [==============================] - 0s 7ms/step - loss: 543.3162 - mae: 14.7845 - val_loss: 5768.1675 - val_mae: 46.1189\n",
      "Epoch 244/500\n",
      "50/50 [==============================] - 0s 7ms/step - loss: 561.8162 - mae: 15.2750 - val_loss: 5922.9932 - val_mae: 44.6557\n",
      "Epoch 245/500\n",
      "50/50 [==============================] - 0s 7ms/step - loss: 755.9780 - mae: 18.0069 - val_loss: 5400.2158 - val_mae: 44.7002\n",
      "Epoch 246/500\n",
      "50/50 [==============================] - 0s 10ms/step - loss: 811.2375 - mae: 18.7991 - val_loss: 5742.3457 - val_mae: 44.3779\n",
      "Epoch 247/500\n",
      "50/50 [==============================] - 1s 11ms/step - loss: 794.7849 - mae: 18.5080 - val_loss: 5691.9507 - val_mae: 45.1333\n",
      "Epoch 248/500\n",
      "50/50 [==============================] - 0s 10ms/step - loss: 740.2344 - mae: 17.3407 - val_loss: 5681.3140 - val_mae: 45.3130\n",
      "Epoch 249/500\n",
      "50/50 [==============================] - 1s 11ms/step - loss: 849.4638 - mae: 18.9708 - val_loss: 5594.0269 - val_mae: 45.1272\n",
      "Epoch 250/500\n",
      "50/50 [==============================] - 1s 10ms/step - loss: 645.1536 - mae: 16.3493 - val_loss: 6139.4404 - val_mae: 46.9819\n",
      "Epoch 251/500\n",
      "50/50 [==============================] - 0s 7ms/step - loss: 652.9330 - mae: 16.6480 - val_loss: 6557.6025 - val_mae: 48.8682\n",
      "Epoch 252/500\n",
      "50/50 [==============================] - 0s 7ms/step - loss: 707.8145 - mae: 16.7429 - val_loss: 5449.5811 - val_mae: 44.3276\n",
      "Epoch 253/500\n",
      "50/50 [==============================] - 0s 7ms/step - loss: 686.4035 - mae: 16.8665 - val_loss: 5789.9268 - val_mae: 44.8982\n",
      "Epoch 254/500\n",
      "50/50 [==============================] - 0s 8ms/step - loss: 568.5559 - mae: 14.9531 - val_loss: 6311.0562 - val_mae: 46.5969\n",
      "Epoch 255/500\n",
      "50/50 [==============================] - 0s 8ms/step - loss: 557.9027 - mae: 15.2415 - val_loss: 5493.9531 - val_mae: 43.6287\n",
      "Epoch 256/500\n",
      "50/50 [==============================] - 0s 8ms/step - loss: 495.9054 - mae: 14.2572 - val_loss: 6427.0059 - val_mae: 49.1358\n",
      "Epoch 257/500\n",
      "50/50 [==============================] - 0s 8ms/step - loss: 556.6755 - mae: 14.8500 - val_loss: 6024.0400 - val_mae: 46.3255\n",
      "Epoch 258/500\n",
      "50/50 [==============================] - 0s 7ms/step - loss: 553.2983 - mae: 15.0140 - val_loss: 5949.4443 - val_mae: 45.8609\n",
      "Epoch 259/500\n",
      "50/50 [==============================] - 0s 8ms/step - loss: 496.7625 - mae: 14.5704 - val_loss: 5957.6987 - val_mae: 46.2375\n",
      "Epoch 260/500\n",
      "50/50 [==============================] - 0s 6ms/step - loss: 568.1684 - mae: 15.3437 - val_loss: 5774.0962 - val_mae: 46.2215\n",
      "Epoch 261/500\n",
      "50/50 [==============================] - 0s 8ms/step - loss: 751.5801 - mae: 17.8317 - val_loss: 5446.4980 - val_mae: 43.7875\n",
      "Epoch 262/500\n",
      "50/50 [==============================] - 0s 7ms/step - loss: 548.7681 - mae: 14.8221 - val_loss: 5934.1313 - val_mae: 47.2727\n",
      "Epoch 263/500\n",
      "50/50 [==============================] - 0s 7ms/step - loss: 537.7078 - mae: 14.6082 - val_loss: 6113.7642 - val_mae: 46.7387\n",
      "Epoch 264/500\n",
      "50/50 [==============================] - 0s 7ms/step - loss: 611.7830 - mae: 15.8325 - val_loss: 6281.4595 - val_mae: 46.9587\n",
      "Epoch 265/500\n",
      "50/50 [==============================] - 0s 7ms/step - loss: 624.8117 - mae: 16.2467 - val_loss: 5974.5186 - val_mae: 45.9196\n",
      "Epoch 266/500\n",
      "50/50 [==============================] - 0s 6ms/step - loss: 618.9200 - mae: 16.2047 - val_loss: 5544.9717 - val_mae: 44.7196\n",
      "Epoch 267/500\n",
      "50/50 [==============================] - 0s 7ms/step - loss: 558.6277 - mae: 15.1542 - val_loss: 5959.5508 - val_mae: 46.5456\n",
      "Epoch 268/500\n",
      "50/50 [==============================] - 0s 8ms/step - loss: 632.4892 - mae: 16.1463 - val_loss: 5770.0327 - val_mae: 48.0147\n",
      "Epoch 269/500\n",
      "50/50 [==============================] - 0s 8ms/step - loss: 526.8535 - mae: 14.6160 - val_loss: 5757.3164 - val_mae: 45.3416\n",
      "Epoch 270/500\n",
      "50/50 [==============================] - 0s 8ms/step - loss: 675.9515 - mae: 16.7222 - val_loss: 5337.3433 - val_mae: 44.4266\n",
      "Epoch 271/500\n",
      "50/50 [==============================] - 0s 7ms/step - loss: 561.6207 - mae: 15.3577 - val_loss: 5685.6499 - val_mae: 46.0204\n",
      "Epoch 272/500\n",
      "50/50 [==============================] - 0s 6ms/step - loss: 665.7419 - mae: 16.8217 - val_loss: 6085.3169 - val_mae: 47.6470\n",
      "Epoch 273/500\n",
      "50/50 [==============================] - 0s 8ms/step - loss: 500.2555 - mae: 14.1294 - val_loss: 6226.5718 - val_mae: 47.4353\n",
      "Epoch 274/500\n",
      "50/50 [==============================] - 0s 6ms/step - loss: 569.9697 - mae: 15.3179 - val_loss: 6278.9971 - val_mae: 47.6409\n",
      "Epoch 275/500\n",
      "50/50 [==============================] - 0s 7ms/step - loss: 525.8008 - mae: 14.7507 - val_loss: 5744.5068 - val_mae: 46.2261\n",
      "Epoch 276/500\n",
      "50/50 [==============================] - 0s 7ms/step - loss: 577.1373 - mae: 15.4447 - val_loss: 5986.2500 - val_mae: 46.9908\n",
      "Epoch 277/500\n",
      "50/50 [==============================] - 0s 9ms/step - loss: 467.7962 - mae: 13.7491 - val_loss: 6041.0566 - val_mae: 46.6307\n",
      "Epoch 278/500\n",
      "50/50 [==============================] - 1s 11ms/step - loss: 508.2045 - mae: 14.4707 - val_loss: 6094.9912 - val_mae: 46.7195\n",
      "Epoch 279/500\n",
      "50/50 [==============================] - 0s 9ms/step - loss: 478.1490 - mae: 14.1027 - val_loss: 5980.4663 - val_mae: 46.1152\n",
      "Epoch 280/500\n",
      "50/50 [==============================] - 1s 11ms/step - loss: 493.4364 - mae: 14.3174 - val_loss: 6050.2256 - val_mae: 47.1115\n",
      "Epoch 281/500\n",
      "50/50 [==============================] - 1s 11ms/step - loss: 517.2455 - mae: 14.6623 - val_loss: 5903.4277 - val_mae: 47.4895\n",
      "Epoch 282/500\n",
      "50/50 [==============================] - 1s 11ms/step - loss: 587.1473 - mae: 15.5575 - val_loss: 6577.5400 - val_mae: 49.0144\n",
      "Epoch 283/500\n",
      "50/50 [==============================] - 0s 8ms/step - loss: 640.4842 - mae: 16.4302 - val_loss: 5925.4307 - val_mae: 46.4191\n",
      "Epoch 284/500\n",
      "50/50 [==============================] - 0s 7ms/step - loss: 616.6795 - mae: 16.2810 - val_loss: 6660.9414 - val_mae: 49.3637\n",
      "Epoch 285/500\n",
      "50/50 [==============================] - 0s 8ms/step - loss: 748.3464 - mae: 17.6862 - val_loss: 5887.9917 - val_mae: 47.6996\n",
      "Epoch 286/500\n",
      "50/50 [==============================] - 0s 7ms/step - loss: 901.0245 - mae: 19.7508 - val_loss: 5851.3809 - val_mae: 46.9800\n",
      "Epoch 287/500\n",
      "50/50 [==============================] - 0s 7ms/step - loss: 846.3297 - mae: 19.1432 - val_loss: 5981.4204 - val_mae: 45.8352\n",
      "Epoch 288/500\n",
      "50/50 [==============================] - 0s 6ms/step - loss: 810.7916 - mae: 18.6770 - val_loss: 5218.6602 - val_mae: 42.8930\n",
      "Epoch 289/500\n",
      "50/50 [==============================] - 0s 8ms/step - loss: 662.7762 - mae: 16.3813 - val_loss: 5483.2920 - val_mae: 45.7062\n",
      "Epoch 290/500\n",
      "50/50 [==============================] - 0s 7ms/step - loss: 507.6805 - mae: 14.3846 - val_loss: 5788.7363 - val_mae: 46.0839\n",
      "Epoch 291/500\n",
      "50/50 [==============================] - 0s 7ms/step - loss: 477.8152 - mae: 14.0315 - val_loss: 5866.5063 - val_mae: 46.5807\n",
      "Epoch 292/500\n",
      "50/50 [==============================] - 0s 8ms/step - loss: 571.1290 - mae: 15.4795 - val_loss: 5529.8052 - val_mae: 45.3082\n",
      "Epoch 293/500\n",
      "50/50 [==============================] - 0s 8ms/step - loss: 506.1234 - mae: 14.4326 - val_loss: 5926.2720 - val_mae: 47.2121\n",
      "Epoch 294/500\n",
      "50/50 [==============================] - 0s 7ms/step - loss: 478.7789 - mae: 14.0994 - val_loss: 5735.4619 - val_mae: 45.6209\n",
      "Epoch 295/500\n",
      "50/50 [==============================] - 0s 7ms/step - loss: 410.2025 - mae: 12.8870 - val_loss: 6275.6826 - val_mae: 48.0683\n",
      "Epoch 296/500\n",
      "50/50 [==============================] - 0s 7ms/step - loss: 476.8692 - mae: 14.1766 - val_loss: 5991.7217 - val_mae: 47.7513\n",
      "Epoch 297/500\n",
      "50/50 [==============================] - 0s 6ms/step - loss: 656.2374 - mae: 16.4395 - val_loss: 5529.1333 - val_mae: 45.5499\n",
      "Epoch 298/500\n",
      "50/50 [==============================] - 0s 7ms/step - loss: 785.4536 - mae: 18.1444 - val_loss: 5694.2324 - val_mae: 44.2568\n",
      "Epoch 299/500\n",
      "50/50 [==============================] - 0s 7ms/step - loss: 755.3585 - mae: 18.3953 - val_loss: 5500.4580 - val_mae: 43.9177\n",
      "Epoch 300/500\n",
      "50/50 [==============================] - 0s 7ms/step - loss: 609.4296 - mae: 15.7202 - val_loss: 6022.3550 - val_mae: 46.1101\n",
      "Epoch 301/500\n",
      "50/50 [==============================] - 0s 7ms/step - loss: 487.8095 - mae: 14.2256 - val_loss: 5849.5781 - val_mae: 45.5871\n",
      "Epoch 302/500\n",
      "50/50 [==============================] - 0s 7ms/step - loss: 614.0788 - mae: 16.2721 - val_loss: 6651.9814 - val_mae: 48.9468\n",
      "Epoch 303/500\n",
      "50/50 [==============================] - 0s 7ms/step - loss: 740.6435 - mae: 17.8699 - val_loss: 5756.0020 - val_mae: 44.9173\n",
      "Epoch 304/500\n",
      "50/50 [==============================] - 0s 7ms/step - loss: 751.1821 - mae: 17.8872 - val_loss: 6014.4595 - val_mae: 45.9876\n",
      "Epoch 305/500\n",
      "50/50 [==============================] - 0s 8ms/step - loss: 636.3103 - mae: 16.4888 - val_loss: 6172.8535 - val_mae: 46.4792\n",
      "Epoch 306/500\n",
      "50/50 [==============================] - 0s 8ms/step - loss: 461.7599 - mae: 13.7916 - val_loss: 5748.0342 - val_mae: 46.2200\n",
      "Epoch 307/500\n",
      "50/50 [==============================] - 0s 7ms/step - loss: 771.6456 - mae: 18.4698 - val_loss: 5972.8018 - val_mae: 46.5219\n",
      "Epoch 308/500\n",
      "50/50 [==============================] - 0s 7ms/step - loss: 490.7036 - mae: 14.4795 - val_loss: 6036.1479 - val_mae: 46.2499\n",
      "Epoch 309/500\n",
      "50/50 [==============================] - 0s 10ms/step - loss: 442.1045 - mae: 13.4843 - val_loss: 5966.9644 - val_mae: 46.6962\n",
      "Epoch 310/500\n",
      "50/50 [==============================] - 1s 11ms/step - loss: 436.5890 - mae: 13.2555 - val_loss: 6291.8286 - val_mae: 47.4201\n",
      "Epoch 311/500\n",
      "50/50 [==============================] - 1s 11ms/step - loss: 426.0538 - mae: 13.0632 - val_loss: 5877.0498 - val_mae: 45.8703\n",
      "Epoch 312/500\n",
      "50/50 [==============================] - 1s 12ms/step - loss: 448.0293 - mae: 13.7090 - val_loss: 6144.1074 - val_mae: 46.6516\n",
      "Epoch 313/500\n",
      "50/50 [==============================] - 0s 10ms/step - loss: 548.1155 - mae: 14.8963 - val_loss: 5828.1582 - val_mae: 46.4628\n",
      "Epoch 314/500\n",
      "50/50 [==============================] - 0s 7ms/step - loss: 418.2063 - mae: 13.0127 - val_loss: 5998.2559 - val_mae: 45.4278\n",
      "Epoch 315/500\n",
      "50/50 [==============================] - 0s 7ms/step - loss: 551.5024 - mae: 15.0559 - val_loss: 5584.2295 - val_mae: 45.1129\n",
      "Epoch 316/500\n",
      "50/50 [==============================] - 0s 7ms/step - loss: 517.3107 - mae: 14.8513 - val_loss: 5867.5225 - val_mae: 47.4507\n",
      "Epoch 317/500\n",
      "50/50 [==============================] - 0s 8ms/step - loss: 537.5551 - mae: 15.1501 - val_loss: 6147.4438 - val_mae: 46.6041\n",
      "Epoch 318/500\n",
      "50/50 [==============================] - 0s 8ms/step - loss: 528.1038 - mae: 15.1493 - val_loss: 6640.4512 - val_mae: 48.5895\n",
      "Epoch 319/500\n",
      "50/50 [==============================] - 0s 7ms/step - loss: 512.4673 - mae: 14.7889 - val_loss: 5760.3096 - val_mae: 45.2273\n",
      "Epoch 320/500\n",
      "50/50 [==============================] - 0s 7ms/step - loss: 438.5504 - mae: 13.5383 - val_loss: 6646.2871 - val_mae: 48.4122\n",
      "Epoch 321/500\n",
      "50/50 [==============================] - 0s 7ms/step - loss: 447.2224 - mae: 13.4271 - val_loss: 6326.4336 - val_mae: 48.4805\n",
      "Epoch 322/500\n",
      "50/50 [==============================] - 0s 9ms/step - loss: 420.3279 - mae: 13.2163 - val_loss: 6275.5562 - val_mae: 46.8833\n",
      "Epoch 323/500\n",
      "50/50 [==============================] - 0s 7ms/step - loss: 433.0122 - mae: 13.3587 - val_loss: 5881.7559 - val_mae: 46.4722\n",
      "Epoch 324/500\n",
      "50/50 [==============================] - 0s 7ms/step - loss: 565.3592 - mae: 15.5271 - val_loss: 5275.2993 - val_mae: 44.6659\n",
      "Epoch 325/500\n",
      "50/50 [==============================] - 0s 7ms/step - loss: 606.3008 - mae: 15.9371 - val_loss: 5928.0874 - val_mae: 46.0790\n",
      "Epoch 326/500\n",
      "50/50 [==============================] - 0s 9ms/step - loss: 497.3739 - mae: 14.6105 - val_loss: 6390.7559 - val_mae: 47.5747\n",
      "Epoch 327/500\n",
      "50/50 [==============================] - 0s 8ms/step - loss: 445.6376 - mae: 13.5014 - val_loss: 5816.3779 - val_mae: 46.6463\n",
      "Epoch 328/500\n",
      "50/50 [==============================] - 0s 9ms/step - loss: 401.8822 - mae: 12.8827 - val_loss: 5975.8701 - val_mae: 47.3044\n",
      "Epoch 329/500\n",
      "50/50 [==============================] - 0s 7ms/step - loss: 369.3102 - mae: 12.2314 - val_loss: 5690.3701 - val_mae: 46.2195\n",
      "Epoch 330/500\n",
      "50/50 [==============================] - 0s 8ms/step - loss: 403.5121 - mae: 12.8637 - val_loss: 6125.7373 - val_mae: 47.2348\n",
      "Epoch 331/500\n",
      "50/50 [==============================] - 0s 7ms/step - loss: 461.4131 - mae: 13.8584 - val_loss: 6144.6182 - val_mae: 47.9504\n",
      "Epoch 332/500\n",
      "50/50 [==============================] - 0s 8ms/step - loss: 448.0982 - mae: 13.7648 - val_loss: 5952.5024 - val_mae: 46.4318\n",
      "Epoch 333/500\n",
      "50/50 [==============================] - 0s 7ms/step - loss: 477.1179 - mae: 13.9777 - val_loss: 6079.5220 - val_mae: 46.9481\n",
      "Epoch 334/500\n",
      "50/50 [==============================] - 0s 9ms/step - loss: 512.2612 - mae: 14.6047 - val_loss: 6116.2090 - val_mae: 46.1909\n",
      "Epoch 335/500\n",
      "50/50 [==============================] - 0s 8ms/step - loss: 399.2141 - mae: 12.8548 - val_loss: 5963.3345 - val_mae: 46.3449\n",
      "Epoch 336/500\n",
      "50/50 [==============================] - 0s 8ms/step - loss: 487.7025 - mae: 14.1385 - val_loss: 6320.0239 - val_mae: 46.9056\n",
      "Epoch 337/500\n",
      "50/50 [==============================] - 0s 7ms/step - loss: 426.7996 - mae: 12.9231 - val_loss: 6079.2617 - val_mae: 47.1494\n",
      "Epoch 338/500\n",
      "50/50 [==============================] - 0s 8ms/step - loss: 425.3932 - mae: 13.3916 - val_loss: 5685.2568 - val_mae: 45.9135\n",
      "Epoch 339/500\n",
      "50/50 [==============================] - 0s 9ms/step - loss: 548.0799 - mae: 15.6997 - val_loss: 5733.2246 - val_mae: 45.7876\n",
      "Epoch 340/500\n",
      "50/50 [==============================] - 1s 11ms/step - loss: 608.5793 - mae: 16.3578 - val_loss: 5931.9785 - val_mae: 45.6430\n",
      "Epoch 341/500\n",
      "50/50 [==============================] - 1s 11ms/step - loss: 425.0297 - mae: 13.2975 - val_loss: 6154.5840 - val_mae: 47.2196\n",
      "Epoch 342/500\n",
      "50/50 [==============================] - 1s 11ms/step - loss: 342.2969 - mae: 11.9503 - val_loss: 6280.2617 - val_mae: 47.7638\n",
      "Epoch 343/500\n",
      "50/50 [==============================] - 1s 10ms/step - loss: 368.8446 - mae: 12.3096 - val_loss: 5791.9180 - val_mae: 45.4426\n",
      "Epoch 344/500\n",
      "50/50 [==============================] - 0s 8ms/step - loss: 450.4202 - mae: 13.8684 - val_loss: 5793.8550 - val_mae: 46.1950\n",
      "Epoch 345/500\n",
      "50/50 [==============================] - 0s 7ms/step - loss: 390.0604 - mae: 12.5779 - val_loss: 5710.2280 - val_mae: 45.7934\n",
      "Epoch 346/500\n",
      "50/50 [==============================] - 0s 7ms/step - loss: 426.4233 - mae: 13.4161 - val_loss: 5669.9033 - val_mae: 44.8006\n",
      "Epoch 347/500\n",
      "50/50 [==============================] - 0s 6ms/step - loss: 388.4391 - mae: 12.8881 - val_loss: 6008.2930 - val_mae: 48.5915\n",
      "Epoch 348/500\n",
      "50/50 [==============================] - 0s 8ms/step - loss: 460.5898 - mae: 13.9863 - val_loss: 6034.5454 - val_mae: 46.0711\n",
      "Epoch 349/500\n",
      "50/50 [==============================] - 0s 7ms/step - loss: 510.1367 - mae: 14.5134 - val_loss: 6661.0205 - val_mae: 48.1066\n",
      "Epoch 350/500\n",
      "50/50 [==============================] - 0s 7ms/step - loss: 474.9562 - mae: 13.8991 - val_loss: 6287.6030 - val_mae: 47.5904\n",
      "Epoch 351/500\n",
      "50/50 [==============================] - 0s 7ms/step - loss: 430.3820 - mae: 13.5259 - val_loss: 6114.7090 - val_mae: 46.7931\n",
      "Epoch 352/500\n",
      "50/50 [==============================] - 0s 7ms/step - loss: 431.1968 - mae: 13.4361 - val_loss: 6571.3130 - val_mae: 48.7109\n",
      "Epoch 353/500\n",
      "50/50 [==============================] - 0s 7ms/step - loss: 338.2898 - mae: 11.7934 - val_loss: 5921.3267 - val_mae: 46.2838\n",
      "Epoch 354/500\n",
      "50/50 [==============================] - 0s 8ms/step - loss: 400.6945 - mae: 12.9925 - val_loss: 6093.7964 - val_mae: 45.9491\n",
      "Epoch 355/500\n",
      "50/50 [==============================] - 0s 8ms/step - loss: 416.3920 - mae: 13.3435 - val_loss: 5942.0898 - val_mae: 45.4978\n",
      "Epoch 356/500\n",
      "50/50 [==============================] - 0s 7ms/step - loss: 358.4322 - mae: 12.0427 - val_loss: 5781.4902 - val_mae: 46.6563\n",
      "Epoch 357/500\n",
      "50/50 [==============================] - 0s 7ms/step - loss: 392.2496 - mae: 12.5972 - val_loss: 6156.3486 - val_mae: 47.2913\n",
      "Epoch 358/500\n",
      "50/50 [==============================] - 0s 7ms/step - loss: 399.5901 - mae: 12.9792 - val_loss: 6153.3770 - val_mae: 46.3326\n",
      "Epoch 359/500\n",
      "50/50 [==============================] - 0s 7ms/step - loss: 538.2174 - mae: 15.2730 - val_loss: 6179.1538 - val_mae: 46.6915\n",
      "Epoch 360/500\n",
      "50/50 [==============================] - 0s 8ms/step - loss: 555.9568 - mae: 15.4412 - val_loss: 6892.6079 - val_mae: 50.1156\n",
      "Epoch 361/500\n",
      "50/50 [==============================] - 0s 9ms/step - loss: 557.4630 - mae: 15.4605 - val_loss: 6281.0811 - val_mae: 47.1615\n",
      "Epoch 362/500\n",
      "50/50 [==============================] - 0s 8ms/step - loss: 359.9441 - mae: 12.1867 - val_loss: 6321.1733 - val_mae: 47.6356\n",
      "Epoch 363/500\n",
      "50/50 [==============================] - 0s 8ms/step - loss: 341.6401 - mae: 11.9599 - val_loss: 6412.7573 - val_mae: 48.1490\n",
      "Epoch 364/500\n",
      "50/50 [==============================] - 0s 7ms/step - loss: 451.3549 - mae: 13.7120 - val_loss: 6353.0669 - val_mae: 48.2173\n",
      "Epoch 365/500\n",
      "50/50 [==============================] - 0s 8ms/step - loss: 395.9612 - mae: 12.6691 - val_loss: 6089.2739 - val_mae: 46.8603\n",
      "Epoch 366/500\n",
      "50/50 [==============================] - 0s 8ms/step - loss: 554.8318 - mae: 15.6615 - val_loss: 5890.3931 - val_mae: 46.4780\n",
      "Epoch 367/500\n",
      "50/50 [==============================] - 0s 7ms/step - loss: 480.7393 - mae: 14.0596 - val_loss: 6116.1143 - val_mae: 46.8501\n",
      "Epoch 368/500\n",
      "50/50 [==============================] - 0s 8ms/step - loss: 533.7075 - mae: 15.1820 - val_loss: 6336.3765 - val_mae: 47.3127\n",
      "Epoch 369/500\n",
      "50/50 [==============================] - 0s 7ms/step - loss: 544.4844 - mae: 15.1586 - val_loss: 5967.0781 - val_mae: 47.0278\n",
      "Epoch 370/500\n",
      "50/50 [==============================] - 1s 11ms/step - loss: 405.5190 - mae: 13.0457 - val_loss: 6294.7104 - val_mae: 47.6553\n",
      "Epoch 371/500\n",
      "50/50 [==============================] - 1s 10ms/step - loss: 415.6134 - mae: 13.5446 - val_loss: 6546.8105 - val_mae: 48.4015\n",
      "Epoch 372/500\n",
      "50/50 [==============================] - 1s 10ms/step - loss: 408.3935 - mae: 13.0599 - val_loss: 6299.1743 - val_mae: 47.2624\n",
      "Epoch 373/500\n",
      "50/50 [==============================] - 1s 11ms/step - loss: 359.4121 - mae: 12.1894 - val_loss: 6320.9175 - val_mae: 48.6615\n",
      "Epoch 374/500\n",
      "50/50 [==============================] - 0s 10ms/step - loss: 460.6102 - mae: 13.8558 - val_loss: 5948.0610 - val_mae: 46.0460\n",
      "Epoch 375/500\n",
      "50/50 [==============================] - 0s 9ms/step - loss: 357.3130 - mae: 12.1716 - val_loss: 6226.3223 - val_mae: 47.4333\n",
      "Epoch 376/500\n",
      "50/50 [==============================] - 0s 7ms/step - loss: 410.7962 - mae: 13.1500 - val_loss: 6054.1211 - val_mae: 47.3536\n",
      "Epoch 377/500\n",
      "50/50 [==============================] - 0s 8ms/step - loss: 365.0936 - mae: 12.3129 - val_loss: 6114.6211 - val_mae: 46.6417\n",
      "Epoch 378/500\n",
      "50/50 [==============================] - 0s 8ms/step - loss: 413.4260 - mae: 13.2522 - val_loss: 6626.2090 - val_mae: 48.5059\n",
      "Epoch 379/500\n",
      "50/50 [==============================] - 0s 7ms/step - loss: 365.2085 - mae: 12.3906 - val_loss: 6398.7231 - val_mae: 48.3645\n",
      "Epoch 380/500\n",
      "50/50 [==============================] - 0s 9ms/step - loss: 422.4338 - mae: 13.3279 - val_loss: 5996.8467 - val_mae: 46.4607\n",
      "Epoch 381/500\n",
      "50/50 [==============================] - 0s 6ms/step - loss: 361.7225 - mae: 12.3678 - val_loss: 6151.4458 - val_mae: 47.7186\n",
      "Epoch 382/500\n",
      "50/50 [==============================] - 0s 7ms/step - loss: 350.8580 - mae: 12.1647 - val_loss: 6205.4751 - val_mae: 47.1082\n",
      "Epoch 383/500\n",
      "50/50 [==============================] - 0s 7ms/step - loss: 420.1328 - mae: 13.3739 - val_loss: 6018.6631 - val_mae: 47.4770\n",
      "Epoch 384/500\n",
      "50/50 [==============================] - 0s 7ms/step - loss: 413.9743 - mae: 13.1404 - val_loss: 6173.0674 - val_mae: 47.0547\n",
      "Epoch 385/500\n",
      "50/50 [==============================] - 0s 7ms/step - loss: 377.9738 - mae: 12.6328 - val_loss: 5819.1807 - val_mae: 46.6478\n",
      "Epoch 386/500\n",
      "50/50 [==============================] - 0s 7ms/step - loss: 370.0814 - mae: 12.6958 - val_loss: 6412.2026 - val_mae: 48.3207\n",
      "Epoch 387/500\n",
      "50/50 [==============================] - 0s 7ms/step - loss: 503.2075 - mae: 14.2629 - val_loss: 6326.3433 - val_mae: 47.2363\n",
      "Epoch 388/500\n",
      "50/50 [==============================] - 0s 7ms/step - loss: 430.4859 - mae: 13.4710 - val_loss: 6023.0698 - val_mae: 47.4925\n",
      "Epoch 389/500\n",
      "50/50 [==============================] - 0s 8ms/step - loss: 420.5210 - mae: 13.1198 - val_loss: 6235.8618 - val_mae: 47.5409\n",
      "Epoch 390/500\n",
      "50/50 [==============================] - 0s 7ms/step - loss: 417.2390 - mae: 13.1295 - val_loss: 5911.5806 - val_mae: 46.5204\n",
      "Epoch 391/500\n",
      "50/50 [==============================] - 0s 9ms/step - loss: 494.2549 - mae: 14.4044 - val_loss: 5747.9263 - val_mae: 45.6407\n",
      "Epoch 392/500\n",
      "50/50 [==============================] - 0s 7ms/step - loss: 452.9509 - mae: 14.2283 - val_loss: 6004.9961 - val_mae: 47.8865\n",
      "Epoch 393/500\n",
      "50/50 [==============================] - 0s 8ms/step - loss: 385.5999 - mae: 12.8045 - val_loss: 6252.7896 - val_mae: 47.6279\n",
      "Epoch 394/500\n",
      "50/50 [==============================] - 0s 7ms/step - loss: 713.6938 - mae: 17.3157 - val_loss: 5841.1523 - val_mae: 46.7158\n",
      "Epoch 395/500\n",
      "50/50 [==============================] - 0s 7ms/step - loss: 653.6642 - mae: 16.8747 - val_loss: 5789.9731 - val_mae: 46.1659\n",
      "Epoch 396/500\n",
      "50/50 [==============================] - 0s 8ms/step - loss: 375.4442 - mae: 12.4785 - val_loss: 6331.1611 - val_mae: 47.8139\n",
      "Epoch 397/500\n",
      "50/50 [==============================] - 0s 8ms/step - loss: 359.4981 - mae: 12.2949 - val_loss: 6110.3076 - val_mae: 46.3174\n",
      "Epoch 398/500\n",
      "50/50 [==============================] - 0s 9ms/step - loss: 326.4781 - mae: 11.4656 - val_loss: 5933.2817 - val_mae: 46.6324\n",
      "Epoch 399/500\n",
      "50/50 [==============================] - 0s 8ms/step - loss: 443.3975 - mae: 14.1680 - val_loss: 6267.0757 - val_mae: 46.8088\n",
      "Epoch 400/500\n",
      "50/50 [==============================] - 0s 7ms/step - loss: 321.8615 - mae: 11.6468 - val_loss: 6366.2217 - val_mae: 47.6224\n",
      "Epoch 401/500\n",
      "50/50 [==============================] - 1s 11ms/step - loss: 310.8997 - mae: 11.2840 - val_loss: 5861.4487 - val_mae: 46.8974\n",
      "Epoch 402/500\n",
      "50/50 [==============================] - 0s 9ms/step - loss: 320.4034 - mae: 11.5242 - val_loss: 6045.5801 - val_mae: 47.2257\n",
      "Epoch 403/500\n",
      "50/50 [==============================] - 1s 10ms/step - loss: 318.0562 - mae: 11.6897 - val_loss: 6432.0708 - val_mae: 48.2482\n",
      "Epoch 404/500\n",
      "50/50 [==============================] - 1s 11ms/step - loss: 341.4392 - mae: 11.9337 - val_loss: 6158.6465 - val_mae: 47.2738\n",
      "Epoch 405/500\n",
      "50/50 [==============================] - 1s 11ms/step - loss: 341.0115 - mae: 12.1861 - val_loss: 6011.1157 - val_mae: 46.4513\n",
      "Epoch 406/500\n",
      "50/50 [==============================] - 0s 8ms/step - loss: 325.6366 - mae: 11.6454 - val_loss: 6407.2163 - val_mae: 48.0482\n",
      "Epoch 407/500\n",
      "50/50 [==============================] - 0s 6ms/step - loss: 425.8296 - mae: 13.3683 - val_loss: 6111.4912 - val_mae: 46.6962\n",
      "Epoch 408/500\n",
      "50/50 [==============================] - 0s 7ms/step - loss: 338.3406 - mae: 12.0045 - val_loss: 6255.5952 - val_mae: 47.7901\n",
      "Epoch 409/500\n",
      "50/50 [==============================] - 0s 7ms/step - loss: 464.8141 - mae: 14.2048 - val_loss: 6714.9595 - val_mae: 48.0122\n",
      "Epoch 410/500\n",
      "50/50 [==============================] - 0s 8ms/step - loss: 521.2082 - mae: 15.2691 - val_loss: 5968.5361 - val_mae: 47.5359\n",
      "Epoch 411/500\n",
      "50/50 [==============================] - 0s 7ms/step - loss: 466.3192 - mae: 14.0507 - val_loss: 6154.9033 - val_mae: 47.8015\n",
      "Epoch 412/500\n",
      "50/50 [==============================] - 0s 7ms/step - loss: 556.2414 - mae: 15.8082 - val_loss: 5942.5830 - val_mae: 46.0601\n",
      "Epoch 413/500\n",
      "50/50 [==============================] - 0s 8ms/step - loss: 380.0447 - mae: 12.7574 - val_loss: 6360.1660 - val_mae: 48.3875\n",
      "Epoch 414/500\n",
      "50/50 [==============================] - 0s 9ms/step - loss: 470.3073 - mae: 14.1795 - val_loss: 6807.3193 - val_mae: 49.4936\n",
      "Epoch 415/500\n",
      "50/50 [==============================] - 0s 7ms/step - loss: 398.0152 - mae: 13.1964 - val_loss: 6154.8306 - val_mae: 47.3263\n",
      "Epoch 416/500\n",
      "50/50 [==============================] - 0s 7ms/step - loss: 358.0212 - mae: 12.2306 - val_loss: 6172.2476 - val_mae: 46.8321\n",
      "Epoch 417/500\n",
      "50/50 [==============================] - 0s 8ms/step - loss: 353.5833 - mae: 12.1159 - val_loss: 6118.8149 - val_mae: 48.2376\n",
      "Epoch 418/500\n",
      "50/50 [==============================] - 0s 8ms/step - loss: 349.2702 - mae: 12.2339 - val_loss: 6315.7012 - val_mae: 48.6877\n",
      "Epoch 419/500\n",
      "50/50 [==============================] - 0s 8ms/step - loss: 337.8987 - mae: 11.7205 - val_loss: 6235.7676 - val_mae: 47.4657\n",
      "Epoch 420/500\n",
      "50/50 [==============================] - 0s 9ms/step - loss: 377.7619 - mae: 12.8226 - val_loss: 6346.5913 - val_mae: 47.8105\n",
      "Epoch 421/500\n",
      "50/50 [==============================] - 0s 8ms/step - loss: 308.2984 - mae: 11.2513 - val_loss: 6101.9858 - val_mae: 47.5085\n",
      "Epoch 422/500\n",
      "50/50 [==============================] - 0s 7ms/step - loss: 287.4550 - mae: 10.9989 - val_loss: 6514.4214 - val_mae: 48.9362\n",
      "Epoch 423/500\n",
      "50/50 [==============================] - 0s 8ms/step - loss: 313.1253 - mae: 11.5582 - val_loss: 6123.6099 - val_mae: 46.6768\n",
      "Epoch 424/500\n",
      "50/50 [==============================] - 0s 7ms/step - loss: 308.6483 - mae: 11.3148 - val_loss: 6382.4126 - val_mae: 47.7231\n",
      "Epoch 425/500\n",
      "50/50 [==============================] - 0s 8ms/step - loss: 358.4955 - mae: 12.1351 - val_loss: 6162.3320 - val_mae: 47.7228\n",
      "Epoch 426/500\n",
      "50/50 [==============================] - 0s 9ms/step - loss: 270.5538 - mae: 10.7147 - val_loss: 6181.1860 - val_mae: 47.9340\n",
      "Epoch 427/500\n",
      "50/50 [==============================] - 0s 8ms/step - loss: 306.6237 - mae: 11.2159 - val_loss: 6102.1592 - val_mae: 47.3018\n",
      "Epoch 428/500\n",
      "50/50 [==============================] - 0s 7ms/step - loss: 264.2147 - mae: 10.6791 - val_loss: 6128.3354 - val_mae: 47.8702\n",
      "Epoch 429/500\n",
      "50/50 [==============================] - 0s 7ms/step - loss: 464.0959 - mae: 14.1874 - val_loss: 6257.8569 - val_mae: 47.7285\n",
      "Epoch 430/500\n",
      "50/50 [==============================] - 0s 8ms/step - loss: 465.6104 - mae: 13.9247 - val_loss: 5931.0674 - val_mae: 45.4598\n",
      "Epoch 431/500\n",
      "50/50 [==============================] - 0s 9ms/step - loss: 480.9169 - mae: 14.5846 - val_loss: 5840.9512 - val_mae: 48.8442\n",
      "Epoch 432/500\n",
      "50/50 [==============================] - 1s 10ms/step - loss: 471.6431 - mae: 14.5134 - val_loss: 6000.4043 - val_mae: 46.3623\n",
      "Epoch 433/500\n",
      "50/50 [==============================] - 1s 11ms/step - loss: 454.9132 - mae: 13.7951 - val_loss: 6419.7637 - val_mae: 48.6594\n",
      "Epoch 434/500\n",
      "50/50 [==============================] - 1s 12ms/step - loss: 347.8223 - mae: 12.3755 - val_loss: 6354.0225 - val_mae: 48.6279\n",
      "Epoch 435/500\n",
      "50/50 [==============================] - 1s 11ms/step - loss: 339.3241 - mae: 12.0979 - val_loss: 6433.0127 - val_mae: 49.5204\n",
      "Epoch 436/500\n",
      "50/50 [==============================] - 0s 10ms/step - loss: 377.2978 - mae: 12.7632 - val_loss: 6242.8794 - val_mae: 47.5621\n",
      "Epoch 437/500\n",
      "50/50 [==============================] - 0s 9ms/step - loss: 409.8096 - mae: 13.0777 - val_loss: 6234.1187 - val_mae: 48.2228\n",
      "Epoch 438/500\n",
      "50/50 [==============================] - 0s 7ms/step - loss: 436.1042 - mae: 13.4001 - val_loss: 6684.3252 - val_mae: 49.2290\n",
      "Epoch 439/500\n",
      "50/50 [==============================] - 0s 7ms/step - loss: 434.5653 - mae: 13.8448 - val_loss: 6136.7090 - val_mae: 47.2648\n",
      "Epoch 440/500\n",
      "50/50 [==============================] - 0s 7ms/step - loss: 347.1117 - mae: 12.0179 - val_loss: 6267.9829 - val_mae: 48.3372\n",
      "Epoch 441/500\n",
      "50/50 [==============================] - 0s 7ms/step - loss: 360.3356 - mae: 12.4974 - val_loss: 6143.1699 - val_mae: 48.0531\n",
      "Epoch 442/500\n",
      "50/50 [==============================] - 0s 7ms/step - loss: 292.0947 - mae: 11.1272 - val_loss: 6113.3350 - val_mae: 47.6160\n",
      "Epoch 443/500\n",
      "50/50 [==============================] - 0s 8ms/step - loss: 253.7208 - mae: 10.3001 - val_loss: 6395.4263 - val_mae: 48.7182\n",
      "Epoch 444/500\n",
      "50/50 [==============================] - 0s 8ms/step - loss: 316.4156 - mae: 11.9386 - val_loss: 6050.4058 - val_mae: 47.3752\n",
      "Epoch 445/500\n",
      "50/50 [==============================] - 0s 8ms/step - loss: 336.8623 - mae: 12.1076 - val_loss: 6254.2925 - val_mae: 48.7929\n",
      "Epoch 446/500\n",
      "50/50 [==============================] - 0s 7ms/step - loss: 235.7438 - mae: 10.0299 - val_loss: 6469.2129 - val_mae: 48.7928\n",
      "Epoch 447/500\n",
      "50/50 [==============================] - 0s 8ms/step - loss: 243.3714 - mae: 10.2008 - val_loss: 6640.4482 - val_mae: 49.1069\n",
      "Epoch 448/500\n",
      "50/50 [==============================] - 0s 8ms/step - loss: 297.7895 - mae: 11.4880 - val_loss: 6112.6133 - val_mae: 47.3352\n",
      "Epoch 449/500\n",
      "50/50 [==============================] - 0s 8ms/step - loss: 276.0816 - mae: 10.7617 - val_loss: 6098.8887 - val_mae: 47.8377\n",
      "Epoch 450/500\n",
      "50/50 [==============================] - 0s 8ms/step - loss: 342.1929 - mae: 12.1065 - val_loss: 6344.1470 - val_mae: 48.1810\n",
      "Epoch 451/500\n",
      "50/50 [==============================] - 0s 9ms/step - loss: 287.2023 - mae: 11.0163 - val_loss: 6311.9419 - val_mae: 48.3577\n",
      "Epoch 452/500\n",
      "50/50 [==============================] - 0s 7ms/step - loss: 277.1340 - mae: 10.9738 - val_loss: 6463.8818 - val_mae: 48.6180\n",
      "Epoch 453/500\n",
      "50/50 [==============================] - 0s 7ms/step - loss: 334.1987 - mae: 11.8114 - val_loss: 6493.6152 - val_mae: 48.2119\n",
      "Epoch 454/500\n",
      "50/50 [==============================] - 0s 7ms/step - loss: 429.5829 - mae: 13.5235 - val_loss: 6640.0830 - val_mae: 49.7361\n",
      "Epoch 455/500\n",
      "50/50 [==============================] - 0s 8ms/step - loss: 786.2605 - mae: 17.9601 - val_loss: 5435.9517 - val_mae: 44.4321\n",
      "Epoch 456/500\n",
      "50/50 [==============================] - 0s 9ms/step - loss: 673.7374 - mae: 16.7038 - val_loss: 5988.2856 - val_mae: 45.9265\n",
      "Epoch 457/500\n",
      "50/50 [==============================] - 0s 7ms/step - loss: 466.5547 - mae: 14.0121 - val_loss: 5978.1670 - val_mae: 47.1224\n",
      "Epoch 458/500\n",
      "50/50 [==============================] - 0s 7ms/step - loss: 353.2368 - mae: 12.2861 - val_loss: 5971.9888 - val_mae: 47.6665\n",
      "Epoch 459/500\n",
      "50/50 [==============================] - 0s 8ms/step - loss: 321.1841 - mae: 11.9753 - val_loss: 7049.0200 - val_mae: 50.9106\n",
      "Epoch 460/500\n",
      "50/50 [==============================] - 0s 8ms/step - loss: 365.7227 - mae: 12.6981 - val_loss: 6346.5542 - val_mae: 48.6127\n",
      "Epoch 461/500\n",
      "50/50 [==============================] - 0s 8ms/step - loss: 491.3268 - mae: 14.7531 - val_loss: 6282.4751 - val_mae: 46.6493\n",
      "Epoch 462/500\n",
      "50/50 [==============================] - 1s 11ms/step - loss: 490.4595 - mae: 14.4796 - val_loss: 7714.2212 - val_mae: 53.4224\n",
      "Epoch 463/500\n",
      "50/50 [==============================] - 1s 10ms/step - loss: 625.9436 - mae: 16.7156 - val_loss: 5902.3677 - val_mae: 45.5946\n",
      "Epoch 464/500\n",
      "50/50 [==============================] - 1s 11ms/step - loss: 379.9862 - mae: 12.9159 - val_loss: 6006.4067 - val_mae: 47.0638\n",
      "Epoch 465/500\n",
      "50/50 [==============================] - 1s 12ms/step - loss: 259.7053 - mae: 10.5266 - val_loss: 6161.1621 - val_mae: 48.5127\n",
      "Epoch 466/500\n",
      "50/50 [==============================] - 0s 10ms/step - loss: 303.8869 - mae: 11.4321 - val_loss: 6184.8301 - val_mae: 47.7529\n",
      "Epoch 467/500\n",
      "50/50 [==============================] - 0s 8ms/step - loss: 250.4461 - mae: 10.0896 - val_loss: 6328.0664 - val_mae: 48.6123\n",
      "Epoch 468/500\n",
      "50/50 [==============================] - 0s 7ms/step - loss: 268.2318 - mae: 10.6186 - val_loss: 6196.5532 - val_mae: 48.5574\n",
      "Epoch 469/500\n",
      "50/50 [==============================] - 0s 8ms/step - loss: 323.1145 - mae: 12.1594 - val_loss: 6310.8975 - val_mae: 47.8128\n",
      "Epoch 470/500\n",
      "50/50 [==============================] - 0s 8ms/step - loss: 289.5579 - mae: 10.8558 - val_loss: 6391.7251 - val_mae: 48.4712\n",
      "Epoch 471/500\n",
      "50/50 [==============================] - 0s 8ms/step - loss: 257.8082 - mae: 10.4064 - val_loss: 6465.2192 - val_mae: 48.6120\n",
      "Epoch 472/500\n",
      "50/50 [==============================] - 0s 9ms/step - loss: 283.2089 - mae: 11.1857 - val_loss: 6183.1387 - val_mae: 48.8467\n",
      "Epoch 473/500\n",
      "50/50 [==============================] - 0s 6ms/step - loss: 330.7214 - mae: 11.8553 - val_loss: 5939.0645 - val_mae: 46.9844\n",
      "Epoch 474/500\n",
      "50/50 [==============================] - 0s 8ms/step - loss: 353.8075 - mae: 12.4246 - val_loss: 6345.2026 - val_mae: 48.7335\n",
      "Epoch 475/500\n",
      "50/50 [==============================] - 0s 8ms/step - loss: 273.0113 - mae: 10.9917 - val_loss: 6407.3369 - val_mae: 48.7819\n",
      "Epoch 476/500\n",
      "50/50 [==============================] - 0s 7ms/step - loss: 348.1223 - mae: 12.0509 - val_loss: 6378.2480 - val_mae: 49.1490\n",
      "Epoch 477/500\n",
      "50/50 [==============================] - 0s 8ms/step - loss: 271.7010 - mae: 10.7410 - val_loss: 6160.9629 - val_mae: 48.3756\n",
      "Epoch 478/500\n",
      "50/50 [==============================] - 0s 8ms/step - loss: 423.3575 - mae: 13.5826 - val_loss: 5842.3813 - val_mae: 45.3176\n",
      "Epoch 479/500\n",
      "50/50 [==============================] - 0s 8ms/step - loss: 373.9922 - mae: 12.9405 - val_loss: 6206.2827 - val_mae: 47.5317\n",
      "Epoch 480/500\n",
      "50/50 [==============================] - 0s 8ms/step - loss: 332.4076 - mae: 12.1128 - val_loss: 6379.4707 - val_mae: 48.4355\n",
      "Epoch 481/500\n",
      "50/50 [==============================] - 0s 7ms/step - loss: 287.0489 - mae: 10.8870 - val_loss: 6372.5127 - val_mae: 49.0759\n",
      "Epoch 482/500\n",
      "50/50 [==============================] - 0s 7ms/step - loss: 349.2721 - mae: 12.6072 - val_loss: 6220.8013 - val_mae: 49.4877\n",
      "Epoch 483/500\n",
      "50/50 [==============================] - 0s 9ms/step - loss: 313.6075 - mae: 11.4587 - val_loss: 5939.1235 - val_mae: 47.1330\n",
      "Epoch 484/500\n",
      "50/50 [==============================] - 0s 8ms/step - loss: 306.5766 - mae: 11.6488 - val_loss: 6100.6479 - val_mae: 49.2673\n",
      "Epoch 485/500\n",
      "50/50 [==============================] - 0s 8ms/step - loss: 460.7387 - mae: 14.3800 - val_loss: 6226.8101 - val_mae: 47.7115\n",
      "Epoch 486/500\n",
      "50/50 [==============================] - 0s 7ms/step - loss: 434.3654 - mae: 13.6832 - val_loss: 6390.8301 - val_mae: 48.4188\n",
      "Epoch 487/500\n",
      "50/50 [==============================] - 0s 7ms/step - loss: 377.1698 - mae: 12.8345 - val_loss: 6142.6514 - val_mae: 48.0776\n",
      "Epoch 488/500\n",
      "50/50 [==============================] - 0s 8ms/step - loss: 320.0452 - mae: 11.7434 - val_loss: 6047.2974 - val_mae: 47.4789\n",
      "Epoch 489/500\n",
      "50/50 [==============================] - 0s 7ms/step - loss: 331.3188 - mae: 12.1753 - val_loss: 5880.9800 - val_mae: 46.3004\n",
      "Epoch 490/500\n",
      "50/50 [==============================] - 0s 9ms/step - loss: 363.3084 - mae: 12.7470 - val_loss: 6211.1470 - val_mae: 48.2621\n",
      "Epoch 491/500\n",
      "50/50 [==============================] - 0s 7ms/step - loss: 315.6178 - mae: 11.8109 - val_loss: 5875.1582 - val_mae: 47.0133\n",
      "Epoch 492/500\n",
      "50/50 [==============================] - 1s 11ms/step - loss: 373.7875 - mae: 12.4785 - val_loss: 6074.4146 - val_mae: 47.1977\n",
      "Epoch 493/500\n",
      "50/50 [==============================] - 1s 10ms/step - loss: 565.7876 - mae: 15.5978 - val_loss: 5701.0596 - val_mae: 45.2979\n",
      "Epoch 494/500\n",
      "50/50 [==============================] - 1s 11ms/step - loss: 345.0502 - mae: 12.1814 - val_loss: 6324.9688 - val_mae: 47.9055\n",
      "Epoch 495/500\n",
      "50/50 [==============================] - 1s 13ms/step - loss: 223.5481 - mae: 9.7774 - val_loss: 6392.6270 - val_mae: 48.8302\n",
      "Epoch 496/500\n",
      "50/50 [==============================] - 0s 9ms/step - loss: 303.9480 - mae: 11.4117 - val_loss: 6790.0762 - val_mae: 49.6638\n",
      "Epoch 497/500\n",
      "50/50 [==============================] - 0s 7ms/step - loss: 250.1437 - mae: 10.6897 - val_loss: 6155.2373 - val_mae: 48.6678\n",
      "Epoch 498/500\n",
      "50/50 [==============================] - 0s 7ms/step - loss: 208.4311 - mae: 9.4877 - val_loss: 6363.7417 - val_mae: 48.9818\n",
      "Epoch 499/500\n",
      "50/50 [==============================] - 0s 7ms/step - loss: 228.0456 - mae: 10.1116 - val_loss: 6270.8823 - val_mae: 49.1056\n",
      "Epoch 500/500\n",
      "50/50 [==============================] - 0s 7ms/step - loss: 208.9876 - mae: 9.5533 - val_loss: 6406.1152 - val_mae: 48.8813\n"
     ]
    },
    {
     "data": {
      "text/plain": [
       "<keras.src.callbacks.History at 0x7e9205757c10>"
      ]
     },
     "execution_count": 37,
     "metadata": {},
     "output_type": "execute_result"
    }
   ],
   "source": [
    "model.fit(X_train[:400], labels[:400], epochs=500, batch_size=8, validation_data=(X_train[400:500], labels[400:500]))"
   ]
  },
  {
   "cell_type": "code",
   "execution_count": null,
   "metadata": {
    "colab": {
     "base_uri": "https://localhost:8080/"
    },
    "executionInfo": {
     "elapsed": 25,
     "status": "ok",
     "timestamp": 1711334625238,
     "user": {
      "displayName": "Priyanshu Gupta",
      "userId": "04165208456498233301"
     },
     "user_tz": -330
    },
    "id": "n15S-K-6oxNX",
    "outputId": "a03cfa85-04ee-4ef1-add8-f1236e62e458"
   },
   "outputs": [
    {
     "name": "stdout",
     "output_type": "stream",
     "text": [
      "4/4 [==============================] - 0s 4ms/step - loss: 3575.7744 - mae: 39.3244\n"
     ]
    }
   ],
   "source": [
    "test_loss, test_mae = model.evaluate(X_train[500:], labels[500:])"
   ]
  },
  {
   "cell_type": "code",
   "execution_count": null,
   "metadata": {
    "colab": {
     "base_uri": "https://localhost:8080/"
    },
    "executionInfo": {
     "elapsed": 6,
     "status": "ok",
     "timestamp": 1711334625238,
     "user": {
      "displayName": "Priyanshu Gupta",
      "userId": "04165208456498233301"
     },
     "user_tz": -330
    },
    "id": "Fi7mv8Hgo2bM",
    "outputId": "ca76d979-ec17-486f-a571-2be32109dc15"
   },
   "outputs": [
    {
     "data": {
      "text/plain": [
       "3575.7744140625"
      ]
     },
     "execution_count": 39,
     "metadata": {},
     "output_type": "execute_result"
    }
   ],
   "source": [
    "test_loss"
   ]
  },
  {
   "cell_type": "markdown",
   "metadata": {
    "id": "MP2-DzjOleBe"
   },
   "source": [
    "2D CNN - LSTM"
   ]
  },
  {
   "cell_type": "code",
   "execution_count": null,
   "metadata": {
    "id": "3bG30L_Sla-n"
   },
   "outputs": [],
   "source": [
    "import tensorflow as tf\n",
    "from tensorflow.keras import layers, models\n",
    "\n",
    "model = models.Sequential()\n",
    "\n",
    "model.add(layers.Conv2D(32 , (3, 3), activation='relu', input_shape=(11, 11, 150)))\n",
    "model.add(layers.AveragePooling2D((2, 2)))\n",
    "\n",
    "model.add(layers.Conv2D(64 , (3, 3), activation='relu'))\n",
    "model.add(layers.AveragePooling2D((2, 2)))\n",
    "\n",
    "model.add(layers.Flatten())\n",
    "\n",
    "model.add(layers.Reshape((1, -1)))\n",
    "model.add(layers.LSTM(64, activation='relu'))\n",
    "\n",
    "model.add(layers.Dense(64, activation='relu'))\n",
    "model.add(layers.Dense(4, activation='linear'))"
   ]
  },
  {
   "cell_type": "code",
   "execution_count": null,
   "metadata": {
    "id": "bI3R8oZinLvO"
   },
   "outputs": [],
   "source": [
    "model.compile(optimizer='adam', loss='mean_squared_error', metrics=['mae'])"
   ]
  },
  {
   "cell_type": "code",
   "execution_count": null,
   "metadata": {
    "id": "74jYpEVfnOjJ"
   },
   "outputs": [],
   "source": [
    "model.fit(X_train[:400], labels[:400], epochs=50, batch_size=64, validation_data=(X_train[400:], labels[400:]))"
   ]
  },
  {
   "cell_type": "code",
   "execution_count": null,
   "metadata": {
    "colab": {
     "base_uri": "https://localhost:8080/"
    },
    "executionInfo": {
     "elapsed": 803,
     "status": "ok",
     "timestamp": 1707195076089,
     "user": {
      "displayName": "Priyanshu Gupta",
      "userId": "04165208456498233301"
     },
     "user_tz": -330
    },
    "id": "tuHlonGrnTBV",
    "outputId": "b0581b20-4545-44e7-dd7f-0aac18a1cabb"
   },
   "outputs": [
    {
     "name": "stdout",
     "output_type": "stream",
     "text": [
      "4/4 [==============================] - 0s 8ms/step - loss: 4183.2939 - mae: 37.6149\n"
     ]
    }
   ],
   "source": [
    "test_loss, test_mae = model.evaluate(X_train[400:], labels[400:])"
   ]
  },
  {
   "cell_type": "code",
   "execution_count": null,
   "metadata": {
    "colab": {
     "base_uri": "https://localhost:8080/"
    },
    "executionInfo": {
     "elapsed": 3,
     "status": "ok",
     "timestamp": 1707195077493,
     "user": {
      "displayName": "Priyanshu Gupta",
      "userId": "04165208456498233301"
     },
     "user_tz": -330
    },
    "id": "QWg4VFrhnfoi",
    "outputId": "f3922e4a-6c86-42c4-b77d-9a2dd276033d"
   },
   "outputs": [
    {
     "data": {
      "text/plain": [
       "4183.2939453125"
      ]
     },
     "execution_count": 40,
     "metadata": {},
     "output_type": "execute_result"
    }
   ],
   "source": [
    "test_loss"
   ]
  },
  {
   "cell_type": "markdown",
   "metadata": {
    "id": "wA8DIdP5yj8H"
   },
   "source": [
    "3D CNN"
   ]
  },
  {
   "cell_type": "code",
   "execution_count": 1,
   "metadata": {
    "colab": {
     "base_uri": "https://localhost:8080/",
     "height": 339
    },
    "executionInfo": {
     "elapsed": 420,
     "status": "error",
     "timestamp": 1711723946935,
     "user": {
      "displayName": "Priyanshu Gupta",
      "userId": "04165208456498233301"
     },
     "user_tz": -330
    },
    "id": "4Ql0BFDQsQTA",
    "outputId": "84dff91f-1a2c-4839-c160-e2b0281cc436"
   },
   "outputs": [],
   "source": [
    "from sklearn.preprocessing import MinMaxScaler\n",
    "\n",
    "# Create MinMaxScaler instance\n",
    "scaler = MinMaxScaler()\n",
    "\n",
    "# Fit scaler to data and transform it\n",
    "X_train1 = scaler.fit_transform(X_train)"
   ]
  },
  {
   "cell_type": "code",
   "execution_count": null,
   "metadata": {
    "id": "Fa-T0OuTzffn"
   },
   "outputs": [],
   "source": [
    "X_train3d = np.reshape(X_train, (600, 11, 11, 150, 1))"
   ]
  },
  {
   "cell_type": "code",
   "execution_count": null,
   "metadata": {
    "colab": {
     "base_uri": "https://localhost:8080/"
    },
    "executionInfo": {
     "elapsed": 8,
     "status": "ok",
     "timestamp": 1711334060776,
     "user": {
      "displayName": "Priyanshu Gupta",
      "userId": "04165208456498233301"
     },
     "user_tz": -330
    },
    "id": "myyEfMxtz0Cj",
    "outputId": "d284a558-c579-4b46-9048-3d204a31295c"
   },
   "outputs": [
    {
     "data": {
      "text/plain": [
       "(600, 11, 11, 150, 1)"
      ]
     },
     "execution_count": 24,
     "metadata": {},
     "output_type": "execute_result"
    }
   ],
   "source": [
    "X_train3d.shape"
   ]
  },
  {
   "cell_type": "code",
   "execution_count": null,
   "metadata": {
    "colab": {
     "base_uri": "https://localhost:8080/"
    },
    "executionInfo": {
     "elapsed": 1882,
     "status": "ok",
     "timestamp": 1711334210162,
     "user": {
      "displayName": "Priyanshu Gupta",
      "userId": "04165208456498233301"
     },
     "user_tz": -330
    },
    "id": "FZVCJKXBylIj",
    "outputId": "bd30d0a5-8251-44c1-da7b-005ac999c5aa"
   },
   "outputs": [
    {
     "name": "stdout",
     "output_type": "stream",
     "text": [
      "Model: \"sequential_4\"\n",
      "_________________________________________________________________\n",
      " Layer (type)                Output Shape              Param #   \n",
      "=================================================================\n",
      " conv3d_4 (Conv3D)           (None, 11, 11, 149, 32)   96        \n",
      "                                                                 \n",
      " average_pooling3d_4 (Avera  (None, 11, 11, 149, 32)   0         \n",
      " gePooling3D)                                                    \n",
      "                                                                 \n",
      " conv3d_5 (Conv3D)           (None, 11, 11, 148, 64)   4160      \n",
      "                                                                 \n",
      " average_pooling3d_5 (Avera  (None, 11, 11, 148, 64)   0         \n",
      " gePooling3D)                                                    \n",
      "                                                                 \n",
      " flatten_4 (Flatten)         (None, 1146112)           0         \n",
      "                                                                 \n",
      " dense_8 (Dense)             (None, 64)                73351232  \n",
      "                                                                 \n",
      " dense_9 (Dense)             (None, 4)                 260       \n",
      "                                                                 \n",
      "=================================================================\n",
      "Total params: 73355748 (279.83 MB)\n",
      "Trainable params: 73355748 (279.83 MB)\n",
      "Non-trainable params: 0 (0.00 Byte)\n",
      "_________________________________________________________________\n"
     ]
    }
   ],
   "source": [
    "import tensorflow as tf\n",
    "from tensorflow.keras import layers, models\n",
    "\n",
    "model = models.Sequential()\n",
    "\n",
    "model.add(layers.Conv3D(32, (1, 1, 2), activation='relu', input_shape=(11, 11, 150, 1)))\n",
    "model.add(layers.AveragePooling3D((1, 1, 1)))\n",
    "\n",
    "model.add(layers.Conv3D(64, (1, 1, 2), activation='relu'))\n",
    "model.add(layers.AveragePooling3D((1, 1, 1)))\n",
    "\n",
    "model.add(layers.Flatten())\n",
    "\n",
    "model.add(layers.Dense(64, activation='relu'))\n",
    "model.add(layers.Dense(4, activation='linear'))\n",
    "\n",
    "# Compile the model\n",
    "model.compile(optimizer='adam', loss='mean_squared_error', metrics=['mae'])\n",
    "\n",
    "# Print the model summary\n",
    "model.summary()\n"
   ]
  },
  {
   "cell_type": "code",
   "execution_count": null,
   "metadata": {
    "id": "QY267xY60BNA"
   },
   "outputs": [],
   "source": [
    "model.compile(optimizer='adam', loss='mean_squared_error', metrics=['mae'])"
   ]
  },
  {
   "cell_type": "code",
   "execution_count": 2,
   "metadata": {
    "colab": {
     "base_uri": "https://localhost:8080/",
     "height": 425
    },
    "executionInfo": {
     "elapsed": 179575,
     "status": "error",
     "timestamp": 1711334392596,
     "user": {
      "displayName": "Priyanshu Gupta",
      "userId": "04165208456498233301"
     },
     "user_tz": -330
    },
    "id": "tc_sl4Ey0Erq",
    "outputId": "f4fa821c-6b26-4179-aafb-aa23306495f4"
   },
   "outputs": [],
   "source": [
    "model.fit(X_train3d[:400], labels[:400], epochs=100, batch_size=8, validation_data=(X_train3d[400:500], labels[400:500]))"
   ]
  },
  {
   "cell_type": "code",
   "execution_count": null,
   "metadata": {
    "id": "Kr0Npyp00fPl"
   },
   "outputs": [],
   "source": [
    "test_loss, test_mae = model.evaluate(X_train3d[500:600], labels[500:600])"
   ]
  },
  {
   "cell_type": "code",
   "execution_count": null,
   "metadata": {
    "colab": {
     "base_uri": "https://localhost:8080/"
    },
    "executionInfo": {
     "elapsed": 2,
     "status": "ok",
     "timestamp": 1707301256938,
     "user": {
      "displayName": "Priyanshu Gupta",
      "userId": "04165208456498233301"
     },
     "user_tz": -330
    },
    "id": "WBGDqi7W0qBo",
    "outputId": "6200213f-f649-46e3-b52d-ae966286a10c"
   },
   "outputs": [
    {
     "data": {
      "text/plain": [
       "26.34287999935004"
      ]
     },
     "execution_count": 72,
     "metadata": {},
     "output_type": "execute_result"
    }
   ],
   "source": [
    "test_loss**0.5"
   ]
  },
  {
   "cell_type": "code",
   "execution_count": null,
   "metadata": {
    "colab": {
     "base_uri": "https://localhost:8080/",
     "height": 997
    },
    "executionInfo": {
     "elapsed": 15784,
     "status": "error",
     "timestamp": 1707472479828,
     "user": {
      "displayName": "Priyanshu Gupta",
      "userId": "04165208456498233301"
     },
     "user_tz": -330
    },
    "id": "CDA0a-mSHu6G",
    "outputId": "a1a067a7-37af-4025-82a9-54387bc0fd5b"
   },
   "outputs": [
    {
     "name": "stdout",
     "output_type": "stream",
     "text": [
      "(None, 11, 11, 150, 2)\n",
      "Model: \"model_11\"\n",
      "__________________________________________________________________________________________________\n",
      " Layer (type)                Output Shape                 Param #   Connected to                  \n",
      "==================================================================================================\n",
      " input_26 (InputLayer)       [(None, 11, 11, 150, 1)]     0         []                            \n",
      "                                                                                                  \n",
      " input_25 (InputLayer)       [(None, 11, 11, 150, 1)]     0         []                            \n",
      "                                                                                                  \n",
      " concatenate_16 (Concatenat  (None, 11, 11, 150, 2)       0         ['input_26[0][0]',            \n",
      " e)                                                                  'input_25[0][0]']            \n",
      "                                                                                                  \n",
      " conv3d_5 (Conv3D)           (None, 11, 11, 101, 32)      3232      ['concatenate_16[0][0]']      \n",
      "                                                                                                  \n",
      " average_pooling3d_4 (Avera  (None, 11, 11, 101, 32)      0         ['conv3d_5[0][0]']            \n",
      " gePooling3D)                                                                                     \n",
      "                                                                                                  \n",
      " conv3d_6 (Conv3D)           (None, 11, 11, 52, 64)       102464    ['average_pooling3d_4[0][0]'] \n",
      "                                                                                                  \n",
      " average_pooling3d_5 (Avera  (None, 11, 11, 52, 64)       0         ['conv3d_6[0][0]']            \n",
      " gePooling3D)                                                                                     \n",
      "                                                                                                  \n",
      " flatten_14 (Flatten)        (None, 402688)               0         ['average_pooling3d_5[0][0]'] \n",
      "                                                                                                  \n",
      " dense_27 (Dense)            (None, 64)                   2577209   ['flatten_14[0][0]']          \n",
      "                                                          6                                       \n",
      "                                                                                                  \n",
      " dense_28 (Dense)            (None, 4)                    260       ['dense_27[0][0]']            \n",
      "                                                                                                  \n",
      "==================================================================================================\n",
      "Total params: 25878052 (98.72 MB)\n",
      "Trainable params: 25878052 (98.72 MB)\n",
      "Non-trainable params: 0 (0.00 Byte)\n",
      "__________________________________________________________________________________________________\n",
      "Epoch 1/100\n",
      " 2/13 [===>..........................] - ETA: 1:04 - loss: 624182912.0000 - mae: 15200.5254"
     ]
    },
    {
     "ename": "KeyboardInterrupt",
     "evalue": "",
     "output_type": "error",
     "traceback": [
      "\u001b[0;31m---------------------------------------------------------------------------\u001b[0m",
      "\u001b[0;31mKeyboardInterrupt\u001b[0m                         Traceback (most recent call last)",
      "\u001b[0;32m<ipython-input-59-761bb560c76f>\u001b[0m in \u001b[0;36m<cell line: 31>\u001b[0;34m()\u001b[0m\n\u001b[1;32m     29\u001b[0m \u001b[0;34m\u001b[0m\u001b[0m\n\u001b[1;32m     30\u001b[0m \u001b[0;31m# Train the model\u001b[0m\u001b[0;34m\u001b[0m\u001b[0;34m\u001b[0m\u001b[0m\n\u001b[0;32m---> 31\u001b[0;31m history = model.fit([X_train1[:400], M_train1[:400]], labels[:400], epochs=100, \n\u001b[0m\u001b[1;32m     32\u001b[0m                     validation_data=([X_train1[400:], M_train1[400:] ], labels[400:]))\n",
      "\u001b[0;32m/usr/local/lib/python3.10/dist-packages/keras/src/utils/traceback_utils.py\u001b[0m in \u001b[0;36merror_handler\u001b[0;34m(*args, **kwargs)\u001b[0m\n\u001b[1;32m     63\u001b[0m         \u001b[0mfiltered_tb\u001b[0m \u001b[0;34m=\u001b[0m \u001b[0;32mNone\u001b[0m\u001b[0;34m\u001b[0m\u001b[0;34m\u001b[0m\u001b[0m\n\u001b[1;32m     64\u001b[0m         \u001b[0;32mtry\u001b[0m\u001b[0;34m:\u001b[0m\u001b[0;34m\u001b[0m\u001b[0;34m\u001b[0m\u001b[0m\n\u001b[0;32m---> 65\u001b[0;31m             \u001b[0;32mreturn\u001b[0m \u001b[0mfn\u001b[0m\u001b[0;34m(\u001b[0m\u001b[0;34m*\u001b[0m\u001b[0margs\u001b[0m\u001b[0;34m,\u001b[0m \u001b[0;34m**\u001b[0m\u001b[0mkwargs\u001b[0m\u001b[0;34m)\u001b[0m\u001b[0;34m\u001b[0m\u001b[0;34m\u001b[0m\u001b[0m\n\u001b[0m\u001b[1;32m     66\u001b[0m         \u001b[0;32mexcept\u001b[0m \u001b[0mException\u001b[0m \u001b[0;32mas\u001b[0m \u001b[0me\u001b[0m\u001b[0;34m:\u001b[0m\u001b[0;34m\u001b[0m\u001b[0;34m\u001b[0m\u001b[0m\n\u001b[1;32m     67\u001b[0m             \u001b[0mfiltered_tb\u001b[0m \u001b[0;34m=\u001b[0m \u001b[0m_process_traceback_frames\u001b[0m\u001b[0;34m(\u001b[0m\u001b[0me\u001b[0m\u001b[0;34m.\u001b[0m\u001b[0m__traceback__\u001b[0m\u001b[0;34m)\u001b[0m\u001b[0;34m\u001b[0m\u001b[0;34m\u001b[0m\u001b[0m\n",
      "\u001b[0;32m/usr/local/lib/python3.10/dist-packages/keras/src/engine/training.py\u001b[0m in \u001b[0;36mfit\u001b[0;34m(self, x, y, batch_size, epochs, verbose, callbacks, validation_split, validation_data, shuffle, class_weight, sample_weight, initial_epoch, steps_per_epoch, validation_steps, validation_batch_size, validation_freq, max_queue_size, workers, use_multiprocessing)\u001b[0m\n\u001b[1;32m   1805\u001b[0m                         ):\n\u001b[1;32m   1806\u001b[0m                             \u001b[0mcallbacks\u001b[0m\u001b[0;34m.\u001b[0m\u001b[0mon_train_batch_begin\u001b[0m\u001b[0;34m(\u001b[0m\u001b[0mstep\u001b[0m\u001b[0;34m)\u001b[0m\u001b[0;34m\u001b[0m\u001b[0;34m\u001b[0m\u001b[0m\n\u001b[0;32m-> 1807\u001b[0;31m                             \u001b[0mtmp_logs\u001b[0m \u001b[0;34m=\u001b[0m \u001b[0mself\u001b[0m\u001b[0;34m.\u001b[0m\u001b[0mtrain_function\u001b[0m\u001b[0;34m(\u001b[0m\u001b[0miterator\u001b[0m\u001b[0;34m)\u001b[0m\u001b[0;34m\u001b[0m\u001b[0;34m\u001b[0m\u001b[0m\n\u001b[0m\u001b[1;32m   1808\u001b[0m                             \u001b[0;32mif\u001b[0m \u001b[0mdata_handler\u001b[0m\u001b[0;34m.\u001b[0m\u001b[0mshould_sync\u001b[0m\u001b[0;34m:\u001b[0m\u001b[0;34m\u001b[0m\u001b[0;34m\u001b[0m\u001b[0m\n\u001b[1;32m   1809\u001b[0m                                 \u001b[0mcontext\u001b[0m\u001b[0;34m.\u001b[0m\u001b[0masync_wait\u001b[0m\u001b[0;34m(\u001b[0m\u001b[0;34m)\u001b[0m\u001b[0;34m\u001b[0m\u001b[0;34m\u001b[0m\u001b[0m\n",
      "\u001b[0;32m/usr/local/lib/python3.10/dist-packages/tensorflow/python/util/traceback_utils.py\u001b[0m in \u001b[0;36merror_handler\u001b[0;34m(*args, **kwargs)\u001b[0m\n\u001b[1;32m    148\u001b[0m     \u001b[0mfiltered_tb\u001b[0m \u001b[0;34m=\u001b[0m \u001b[0;32mNone\u001b[0m\u001b[0;34m\u001b[0m\u001b[0;34m\u001b[0m\u001b[0m\n\u001b[1;32m    149\u001b[0m     \u001b[0;32mtry\u001b[0m\u001b[0;34m:\u001b[0m\u001b[0;34m\u001b[0m\u001b[0;34m\u001b[0m\u001b[0m\n\u001b[0;32m--> 150\u001b[0;31m       \u001b[0;32mreturn\u001b[0m \u001b[0mfn\u001b[0m\u001b[0;34m(\u001b[0m\u001b[0;34m*\u001b[0m\u001b[0margs\u001b[0m\u001b[0;34m,\u001b[0m \u001b[0;34m**\u001b[0m\u001b[0mkwargs\u001b[0m\u001b[0;34m)\u001b[0m\u001b[0;34m\u001b[0m\u001b[0;34m\u001b[0m\u001b[0m\n\u001b[0m\u001b[1;32m    151\u001b[0m     \u001b[0;32mexcept\u001b[0m \u001b[0mException\u001b[0m \u001b[0;32mas\u001b[0m \u001b[0me\u001b[0m\u001b[0;34m:\u001b[0m\u001b[0;34m\u001b[0m\u001b[0;34m\u001b[0m\u001b[0m\n\u001b[1;32m    152\u001b[0m       \u001b[0mfiltered_tb\u001b[0m \u001b[0;34m=\u001b[0m \u001b[0m_process_traceback_frames\u001b[0m\u001b[0;34m(\u001b[0m\u001b[0me\u001b[0m\u001b[0;34m.\u001b[0m\u001b[0m__traceback__\u001b[0m\u001b[0;34m)\u001b[0m\u001b[0;34m\u001b[0m\u001b[0;34m\u001b[0m\u001b[0m\n",
      "\u001b[0;32m/usr/local/lib/python3.10/dist-packages/tensorflow/python/eager/polymorphic_function/polymorphic_function.py\u001b[0m in \u001b[0;36m__call__\u001b[0;34m(self, *args, **kwds)\u001b[0m\n\u001b[1;32m    830\u001b[0m \u001b[0;34m\u001b[0m\u001b[0m\n\u001b[1;32m    831\u001b[0m       \u001b[0;32mwith\u001b[0m \u001b[0mOptionalXlaContext\u001b[0m\u001b[0;34m(\u001b[0m\u001b[0mself\u001b[0m\u001b[0;34m.\u001b[0m\u001b[0m_jit_compile\u001b[0m\u001b[0;34m)\u001b[0m\u001b[0;34m:\u001b[0m\u001b[0;34m\u001b[0m\u001b[0;34m\u001b[0m\u001b[0m\n\u001b[0;32m--> 832\u001b[0;31m         \u001b[0mresult\u001b[0m \u001b[0;34m=\u001b[0m \u001b[0mself\u001b[0m\u001b[0;34m.\u001b[0m\u001b[0m_call\u001b[0m\u001b[0;34m(\u001b[0m\u001b[0;34m*\u001b[0m\u001b[0margs\u001b[0m\u001b[0;34m,\u001b[0m \u001b[0;34m**\u001b[0m\u001b[0mkwds\u001b[0m\u001b[0;34m)\u001b[0m\u001b[0;34m\u001b[0m\u001b[0;34m\u001b[0m\u001b[0m\n\u001b[0m\u001b[1;32m    833\u001b[0m \u001b[0;34m\u001b[0m\u001b[0m\n\u001b[1;32m    834\u001b[0m       \u001b[0mnew_tracing_count\u001b[0m \u001b[0;34m=\u001b[0m \u001b[0mself\u001b[0m\u001b[0;34m.\u001b[0m\u001b[0mexperimental_get_tracing_count\u001b[0m\u001b[0;34m(\u001b[0m\u001b[0;34m)\u001b[0m\u001b[0;34m\u001b[0m\u001b[0;34m\u001b[0m\u001b[0m\n",
      "\u001b[0;32m/usr/local/lib/python3.10/dist-packages/tensorflow/python/eager/polymorphic_function/polymorphic_function.py\u001b[0m in \u001b[0;36m_call\u001b[0;34m(self, *args, **kwds)\u001b[0m\n\u001b[1;32m    866\u001b[0m       \u001b[0;31m# In this case we have created variables on the first call, so we run the\u001b[0m\u001b[0;34m\u001b[0m\u001b[0;34m\u001b[0m\u001b[0m\n\u001b[1;32m    867\u001b[0m       \u001b[0;31m# defunned version which is guaranteed to never create variables.\u001b[0m\u001b[0;34m\u001b[0m\u001b[0;34m\u001b[0m\u001b[0m\n\u001b[0;32m--> 868\u001b[0;31m       return tracing_compilation.call_function(\n\u001b[0m\u001b[1;32m    869\u001b[0m           \u001b[0margs\u001b[0m\u001b[0;34m,\u001b[0m \u001b[0mkwds\u001b[0m\u001b[0;34m,\u001b[0m \u001b[0mself\u001b[0m\u001b[0;34m.\u001b[0m\u001b[0m_no_variable_creation_config\u001b[0m\u001b[0;34m\u001b[0m\u001b[0;34m\u001b[0m\u001b[0m\n\u001b[1;32m    870\u001b[0m       )\n",
      "\u001b[0;32m/usr/local/lib/python3.10/dist-packages/tensorflow/python/eager/polymorphic_function/tracing_compilation.py\u001b[0m in \u001b[0;36mcall_function\u001b[0;34m(args, kwargs, tracing_options)\u001b[0m\n\u001b[1;32m    137\u001b[0m   \u001b[0mbound_args\u001b[0m \u001b[0;34m=\u001b[0m \u001b[0mfunction\u001b[0m\u001b[0;34m.\u001b[0m\u001b[0mfunction_type\u001b[0m\u001b[0;34m.\u001b[0m\u001b[0mbind\u001b[0m\u001b[0;34m(\u001b[0m\u001b[0;34m*\u001b[0m\u001b[0margs\u001b[0m\u001b[0;34m,\u001b[0m \u001b[0;34m**\u001b[0m\u001b[0mkwargs\u001b[0m\u001b[0;34m)\u001b[0m\u001b[0;34m\u001b[0m\u001b[0;34m\u001b[0m\u001b[0m\n\u001b[1;32m    138\u001b[0m   \u001b[0mflat_inputs\u001b[0m \u001b[0;34m=\u001b[0m \u001b[0mfunction\u001b[0m\u001b[0;34m.\u001b[0m\u001b[0mfunction_type\u001b[0m\u001b[0;34m.\u001b[0m\u001b[0munpack_inputs\u001b[0m\u001b[0;34m(\u001b[0m\u001b[0mbound_args\u001b[0m\u001b[0;34m)\u001b[0m\u001b[0;34m\u001b[0m\u001b[0;34m\u001b[0m\u001b[0m\n\u001b[0;32m--> 139\u001b[0;31m   return function._call_flat(  # pylint: disable=protected-access\n\u001b[0m\u001b[1;32m    140\u001b[0m       \u001b[0mflat_inputs\u001b[0m\u001b[0;34m,\u001b[0m \u001b[0mcaptured_inputs\u001b[0m\u001b[0;34m=\u001b[0m\u001b[0mfunction\u001b[0m\u001b[0;34m.\u001b[0m\u001b[0mcaptured_inputs\u001b[0m\u001b[0;34m\u001b[0m\u001b[0;34m\u001b[0m\u001b[0m\n\u001b[1;32m    141\u001b[0m   )\n",
      "\u001b[0;32m/usr/local/lib/python3.10/dist-packages/tensorflow/python/eager/polymorphic_function/concrete_function.py\u001b[0m in \u001b[0;36m_call_flat\u001b[0;34m(self, tensor_inputs, captured_inputs)\u001b[0m\n\u001b[1;32m   1321\u001b[0m         and executing_eagerly):\n\u001b[1;32m   1322\u001b[0m       \u001b[0;31m# No tape is watching; skip to running the function.\u001b[0m\u001b[0;34m\u001b[0m\u001b[0;34m\u001b[0m\u001b[0m\n\u001b[0;32m-> 1323\u001b[0;31m       \u001b[0;32mreturn\u001b[0m \u001b[0mself\u001b[0m\u001b[0;34m.\u001b[0m\u001b[0m_inference_function\u001b[0m\u001b[0;34m.\u001b[0m\u001b[0mcall_preflattened\u001b[0m\u001b[0;34m(\u001b[0m\u001b[0margs\u001b[0m\u001b[0;34m)\u001b[0m\u001b[0;34m\u001b[0m\u001b[0;34m\u001b[0m\u001b[0m\n\u001b[0m\u001b[1;32m   1324\u001b[0m     forward_backward = self._select_forward_and_backward_functions(\n\u001b[1;32m   1325\u001b[0m         \u001b[0margs\u001b[0m\u001b[0;34m,\u001b[0m\u001b[0;34m\u001b[0m\u001b[0;34m\u001b[0m\u001b[0m\n",
      "\u001b[0;32m/usr/local/lib/python3.10/dist-packages/tensorflow/python/eager/polymorphic_function/atomic_function.py\u001b[0m in \u001b[0;36mcall_preflattened\u001b[0;34m(self, args)\u001b[0m\n\u001b[1;32m    214\u001b[0m   \u001b[0;32mdef\u001b[0m \u001b[0mcall_preflattened\u001b[0m\u001b[0;34m(\u001b[0m\u001b[0mself\u001b[0m\u001b[0;34m,\u001b[0m \u001b[0margs\u001b[0m\u001b[0;34m:\u001b[0m \u001b[0mSequence\u001b[0m\u001b[0;34m[\u001b[0m\u001b[0mcore\u001b[0m\u001b[0;34m.\u001b[0m\u001b[0mTensor\u001b[0m\u001b[0;34m]\u001b[0m\u001b[0;34m)\u001b[0m \u001b[0;34m->\u001b[0m \u001b[0mAny\u001b[0m\u001b[0;34m:\u001b[0m\u001b[0;34m\u001b[0m\u001b[0;34m\u001b[0m\u001b[0m\n\u001b[1;32m    215\u001b[0m     \u001b[0;34m\"\"\"Calls with flattened tensor inputs and returns the structured output.\"\"\"\u001b[0m\u001b[0;34m\u001b[0m\u001b[0;34m\u001b[0m\u001b[0m\n\u001b[0;32m--> 216\u001b[0;31m     \u001b[0mflat_outputs\u001b[0m \u001b[0;34m=\u001b[0m \u001b[0mself\u001b[0m\u001b[0;34m.\u001b[0m\u001b[0mcall_flat\u001b[0m\u001b[0;34m(\u001b[0m\u001b[0;34m*\u001b[0m\u001b[0margs\u001b[0m\u001b[0;34m)\u001b[0m\u001b[0;34m\u001b[0m\u001b[0;34m\u001b[0m\u001b[0m\n\u001b[0m\u001b[1;32m    217\u001b[0m     \u001b[0;32mreturn\u001b[0m \u001b[0mself\u001b[0m\u001b[0;34m.\u001b[0m\u001b[0mfunction_type\u001b[0m\u001b[0;34m.\u001b[0m\u001b[0mpack_output\u001b[0m\u001b[0;34m(\u001b[0m\u001b[0mflat_outputs\u001b[0m\u001b[0;34m)\u001b[0m\u001b[0;34m\u001b[0m\u001b[0;34m\u001b[0m\u001b[0m\n\u001b[1;32m    218\u001b[0m \u001b[0;34m\u001b[0m\u001b[0m\n",
      "\u001b[0;32m/usr/local/lib/python3.10/dist-packages/tensorflow/python/eager/polymorphic_function/atomic_function.py\u001b[0m in \u001b[0;36mcall_flat\u001b[0;34m(self, *args)\u001b[0m\n\u001b[1;32m    249\u001b[0m         \u001b[0;32mwith\u001b[0m \u001b[0mrecord\u001b[0m\u001b[0;34m.\u001b[0m\u001b[0mstop_recording\u001b[0m\u001b[0;34m(\u001b[0m\u001b[0;34m)\u001b[0m\u001b[0;34m:\u001b[0m\u001b[0;34m\u001b[0m\u001b[0;34m\u001b[0m\u001b[0m\n\u001b[1;32m    250\u001b[0m           \u001b[0;32mif\u001b[0m \u001b[0mself\u001b[0m\u001b[0;34m.\u001b[0m\u001b[0m_bound_context\u001b[0m\u001b[0;34m.\u001b[0m\u001b[0mexecuting_eagerly\u001b[0m\u001b[0;34m(\u001b[0m\u001b[0;34m)\u001b[0m\u001b[0;34m:\u001b[0m\u001b[0;34m\u001b[0m\u001b[0;34m\u001b[0m\u001b[0m\n\u001b[0;32m--> 251\u001b[0;31m             outputs = self._bound_context.call_function(\n\u001b[0m\u001b[1;32m    252\u001b[0m                 \u001b[0mself\u001b[0m\u001b[0;34m.\u001b[0m\u001b[0mname\u001b[0m\u001b[0;34m,\u001b[0m\u001b[0;34m\u001b[0m\u001b[0;34m\u001b[0m\u001b[0m\n\u001b[1;32m    253\u001b[0m                 \u001b[0mlist\u001b[0m\u001b[0;34m(\u001b[0m\u001b[0margs\u001b[0m\u001b[0;34m)\u001b[0m\u001b[0;34m,\u001b[0m\u001b[0;34m\u001b[0m\u001b[0;34m\u001b[0m\u001b[0m\n",
      "\u001b[0;32m/usr/local/lib/python3.10/dist-packages/tensorflow/python/eager/context.py\u001b[0m in \u001b[0;36mcall_function\u001b[0;34m(self, name, tensor_inputs, num_outputs)\u001b[0m\n\u001b[1;32m   1484\u001b[0m     \u001b[0mcancellation_context\u001b[0m \u001b[0;34m=\u001b[0m \u001b[0mcancellation\u001b[0m\u001b[0;34m.\u001b[0m\u001b[0mcontext\u001b[0m\u001b[0;34m(\u001b[0m\u001b[0;34m)\u001b[0m\u001b[0;34m\u001b[0m\u001b[0;34m\u001b[0m\u001b[0m\n\u001b[1;32m   1485\u001b[0m     \u001b[0;32mif\u001b[0m \u001b[0mcancellation_context\u001b[0m \u001b[0;32mis\u001b[0m \u001b[0;32mNone\u001b[0m\u001b[0;34m:\u001b[0m\u001b[0;34m\u001b[0m\u001b[0;34m\u001b[0m\u001b[0m\n\u001b[0;32m-> 1486\u001b[0;31m       outputs = execute.execute(\n\u001b[0m\u001b[1;32m   1487\u001b[0m           \u001b[0mname\u001b[0m\u001b[0;34m.\u001b[0m\u001b[0mdecode\u001b[0m\u001b[0;34m(\u001b[0m\u001b[0;34m\"utf-8\"\u001b[0m\u001b[0;34m)\u001b[0m\u001b[0;34m,\u001b[0m\u001b[0;34m\u001b[0m\u001b[0;34m\u001b[0m\u001b[0m\n\u001b[1;32m   1488\u001b[0m           \u001b[0mnum_outputs\u001b[0m\u001b[0;34m=\u001b[0m\u001b[0mnum_outputs\u001b[0m\u001b[0;34m,\u001b[0m\u001b[0;34m\u001b[0m\u001b[0;34m\u001b[0m\u001b[0m\n",
      "\u001b[0;32m/usr/local/lib/python3.10/dist-packages/tensorflow/python/eager/execute.py\u001b[0m in \u001b[0;36mquick_execute\u001b[0;34m(op_name, num_outputs, inputs, attrs, ctx, name)\u001b[0m\n\u001b[1;32m     51\u001b[0m   \u001b[0;32mtry\u001b[0m\u001b[0;34m:\u001b[0m\u001b[0;34m\u001b[0m\u001b[0;34m\u001b[0m\u001b[0m\n\u001b[1;32m     52\u001b[0m     \u001b[0mctx\u001b[0m\u001b[0;34m.\u001b[0m\u001b[0mensure_initialized\u001b[0m\u001b[0;34m(\u001b[0m\u001b[0;34m)\u001b[0m\u001b[0;34m\u001b[0m\u001b[0;34m\u001b[0m\u001b[0m\n\u001b[0;32m---> 53\u001b[0;31m     tensors = pywrap_tfe.TFE_Py_Execute(ctx._handle, device_name, op_name,\n\u001b[0m\u001b[1;32m     54\u001b[0m                                         inputs, attrs, num_outputs)\n\u001b[1;32m     55\u001b[0m   \u001b[0;32mexcept\u001b[0m \u001b[0mcore\u001b[0m\u001b[0;34m.\u001b[0m\u001b[0m_NotOkStatusException\u001b[0m \u001b[0;32mas\u001b[0m \u001b[0me\u001b[0m\u001b[0;34m:\u001b[0m\u001b[0;34m\u001b[0m\u001b[0;34m\u001b[0m\u001b[0m\n",
      "\u001b[0;31mKeyboardInterrupt\u001b[0m: "
     ]
    }
   ],
   "source": [
    "import tensorflow as tf\n",
    "from tensorflow.keras import layers, models\n",
    "\n",
    "masked_input = layers.Input(shape=(11, 11, 150, 1))\n",
    "data_input = layers.Input(shape=(11, 11, 150, 1))\n",
    "\n",
    "# Concatenate the input tensors along the channel dimension\n",
    "combined_input = layers.Concatenate()([data_input, masked_input])\n",
    "print(combined_input.shape)\n",
    "\n",
    "# Define the model architecture\n",
    "conv1 = layers.Conv3D(32, (1, 1, 50), activation='relu')(combined_input)\n",
    "pool1 = layers.AveragePooling3D((1, 1, 1))(conv1)\n",
    "conv2 = layers.Conv3D(64, (1, 1, 50), activation='relu')(pool1)\n",
    "pool2 = layers.AveragePooling3D((1, 1, 1))(conv2)\n",
    "flatten = layers.Flatten()(pool2)\n",
    "dense1 = layers.Dense(64, activation='relu')(flatten)\n",
    "output = layers.Dense(4, activation='linear')(dense1)\n",
    "\n",
    "# Combine input and output layers to create the model\n",
    "model = models.Model(inputs=[masked_input, data_input], outputs=output)\n",
    "\n",
    "model.compile(optimizer='adam',\n",
    "              loss='mean_squared_error',  # Use appropriate loss function based on your task\n",
    "              metrics=['mae'])\n",
    "\n",
    "# Display model summary\n",
    "model.summary()\n",
    "\n",
    "# Train the model\n",
    "history = model.fit([X_train1[:400], M_train1[:400]], labels[:400], epochs=100,\n",
    "                    validation_data=([X_train1[400:], M_train1[400:] ], labels[400:]))\n"
   ]
  },
  {
   "cell_type": "code",
   "execution_count": null,
   "metadata": {
    "id": "OeQzEAuZNZzp"
   },
   "outputs": [],
   "source": [
    "X_train1 = np.reshape(X_train, (500, 11, 11, 150, 1))\n",
    "M_train1 = np.reshape(M_train, (500, 11, 11, 150, 1))"
   ]
  },
  {
   "cell_type": "code",
   "execution_count": null,
   "metadata": {
    "id": "25B4-JIgmgi8"
   },
   "outputs": [],
   "source": [
    "import tensorflow as tf\n",
    "import numpy as np\n",
    "\n",
    "IMG_SIZE_PX = 11\n",
    "SLICE_COUNT = 150\n",
    "\n",
    "n_classes = 4\n",
    "batch_size = 8\n",
    "\n",
    "# x = tf.keras.Input(shape=(IMG_SIZE_PX, IMG_SIZE_PX, SLICE_COUNT), dtype=tf.float32)\n",
    "# y = tf.keras.Input(shape=(n_classes,), dtype=tf.float32)\n",
    "\n",
    "keep_rate = 0.9"
   ]
  },
  {
   "cell_type": "code",
   "execution_count": null,
   "metadata": {
    "id": "poj76sX8nnmi"
   },
   "outputs": [],
   "source": [
    "def conv3d(x, W):\n",
    "    return tf.nn.conv3d(x, W, strides=[1,1,1,1,1], padding='SAME')\n",
    "\n",
    "def maxpool3d(x):\n",
    "    #                        size of window         movement of window as you slide about\n",
    "    return tf.nn.max_pool3d(x, ksize=[1,2,2,2,1], strides=[1,2,2,2,1], padding='SAME')"
   ]
  },
  {
   "cell_type": "code",
   "execution_count": null,
   "metadata": {
    "colab": {
     "base_uri": "https://localhost:8080/"
    },
    "executionInfo": {
     "elapsed": 27,
     "status": "ok",
     "timestamp": 1706864459813,
     "user": {
      "displayName": "Priyanshu Gupta",
      "userId": "04165208456498233301"
     },
     "user_tz": -330
    },
    "id": "3_80lSjpAZZ5",
    "outputId": "f8146ac7-7530-4953-b95a-1947a2617559"
   },
   "outputs": [
    {
     "data": {
      "text/plain": [
       "<tf.Tensor: shape=(64,), dtype=float32, numpy=\n",
       "array([ 0.10115086, -1.945691  ,  0.40285757,  2.0383766 ,  0.9953945 ,\n",
       "       -0.5809935 , -0.16286004,  0.40759248,  0.80625445,  0.9287159 ,\n",
       "       -0.8120495 ,  0.4027626 ,  0.8993472 ,  0.35830373, -0.5414212 ,\n",
       "       -0.32793972,  0.16521011,  0.9224293 ,  0.38775307,  0.15323867,\n",
       "        0.55029154, -1.7037054 , -0.3455817 ,  0.58982235, -0.9495313 ,\n",
       "       -1.9628018 ,  0.7868988 ,  0.41960946, -0.0120301 ,  0.7725604 ,\n",
       "       -0.5845273 ,  0.5482695 ,  0.29339278, -0.03294135,  1.5558783 ,\n",
       "       -0.59621173, -1.5498742 ,  1.9917103 ,  0.16328098,  0.4209951 ,\n",
       "       -0.8351074 ,  1.0565029 ,  1.2185313 ,  1.5713726 ,  1.066861  ,\n",
       "        0.6522824 ,  0.47756088,  1.8227777 , -1.1260029 , -1.4623476 ,\n",
       "        0.52278   ,  0.09903459,  0.4662738 ,  0.09560031,  1.0857383 ,\n",
       "       -1.564737  ,  1.1949328 , -1.2593824 ,  0.8328553 ,  1.3161554 ,\n",
       "       -0.00966072,  1.0146114 ,  0.42456573,  0.2063071 ], dtype=float32)>"
      ]
     },
     "execution_count": 103,
     "metadata": {},
     "output_type": "execute_result"
    }
   ],
   "source": [
    "tf.random.normal([64])"
   ]
  },
  {
   "cell_type": "code",
   "execution_count": null,
   "metadata": {
    "id": "BDHTXKtvn9WP"
   },
   "outputs": [],
   "source": [
    "def convolutional_neural_network(x):\n",
    "    #                # 5 x 5 x 5 patches, 1 channel, 32 features to compute.\n",
    "    weights = {'W_conv1':tf.Variable(tf.random.normal([3,3,3,1,32])),\n",
    "               #       5 x 5 x 5 patches, 32 channels, 64 features to compute.\n",
    "               'W_conv2':tf.Variable(tf.random.normal([3,3,3,32,64])),\n",
    "               #                                  64 features\n",
    "               'W_fc':tf.Variable(tf.random.normal([21888,1024])),\n",
    "               'out':tf.Variable(tf.random.normal([1024, n_classes]))}\n",
    "\n",
    "    biases = {'b_conv1':tf.Variable(tf.random.normal([32])),\n",
    "               'b_conv2':tf.Variable(tf.random.normal([64])),\n",
    "               'b_fc':tf.Variable(tf.random.normal([1024])),\n",
    "               'out':tf.Variable(tf.random.normal([n_classes]))}\n",
    "\n",
    "    #                            image X      image Y        image Z\n",
    "    x = tf.reshape(x, shape=[-1, IMG_SIZE_PX, IMG_SIZE_PX, SLICE_COUNT, 1])\n",
    "\n",
    "    conv1 = tf.nn.relu(conv3d(x, weights['W_conv1']) + biases['b_conv1'])\n",
    "    conv1 = maxpool3d(conv1)\n",
    "\n",
    "    print(conv1.shape)\n",
    "\n",
    "\n",
    "    conv2 = tf.nn.relu(conv3d(conv1, weights['W_conv2']) + biases['b_conv2'])\n",
    "    conv2 = maxpool3d(conv2)\n",
    "\n",
    "    print(conv2.shape)\n",
    "\n",
    "    fc = tf.reshape(conv2,[-1, 21888])\n",
    "    fc = tf.nn.relu(tf.matmul(fc, weights['W_fc'])+biases['b_fc'])\n",
    "    fc = tf.nn.dropout(fc, keep_rate)\n",
    "\n",
    "    output = tf.matmul(fc, weights['out'])+biases['out']\n",
    "\n",
    "    return output"
   ]
  },
  {
   "cell_type": "code",
   "execution_count": null,
   "metadata": {
    "id": "uO3zw5wIo20t"
   },
   "outputs": [],
   "source": [
    "type(labels)\n",
    "y = labels"
   ]
  },
  {
   "cell_type": "code",
   "execution_count": null,
   "metadata": {
    "colab": {
     "base_uri": "https://localhost:8080/"
    },
    "executionInfo": {
     "elapsed": 16,
     "status": "ok",
     "timestamp": 1706864459814,
     "user": {
      "displayName": "Priyanshu Gupta",
      "userId": "04165208456498233301"
     },
     "user_tz": -330
    },
    "id": "mCN4ukEhCPKZ",
    "outputId": "ff708718-861c-4390-df0a-bb940a34fabf"
   },
   "outputs": [
    {
     "data": {
      "text/plain": [
       "(100, 4)"
      ]
     },
     "execution_count": 106,
     "metadata": {},
     "output_type": "execute_result"
    }
   ],
   "source": [
    "y.shape"
   ]
  },
  {
   "cell_type": "code",
   "execution_count": null,
   "metadata": {
    "id": "4mpiBJZF9uq7"
   },
   "outputs": [],
   "source": [
    "X = tf.cast(X, tf.float32)"
   ]
  },
  {
   "cell_type": "code",
   "execution_count": null,
   "metadata": {
    "colab": {
     "base_uri": "https://localhost:8080/"
    },
    "executionInfo": {
     "elapsed": 11,
     "status": "ok",
     "timestamp": 1706864459814,
     "user": {
      "displayName": "Priyanshu Gupta",
      "userId": "04165208456498233301"
     },
     "user_tz": -330
    },
    "id": "wMzcIFyH-5iy",
    "outputId": "a65f2413-6665-4b6b-8514-42769b3e1de5"
   },
   "outputs": [
    {
     "data": {
      "text/plain": [
       "tf.float32"
      ]
     },
     "execution_count": 108,
     "metadata": {},
     "output_type": "execute_result"
    }
   ],
   "source": [
    "X.dtype"
   ]
  }
 ],
 "metadata": {
  "colab": {
   "authorship_tag": "ABX9TyPf8lcLMQ63Q3bASp2jLJ7Z",
   "provenance": []
  },
  "kernelspec": {
   "display_name": "Python 3 (ipykernel)",
   "language": "python",
   "name": "python3"
  },
  "language_info": {
   "codemirror_mode": {
    "name": "ipython",
    "version": 3
   },
   "file_extension": ".py",
   "mimetype": "text/x-python",
   "name": "python",
   "nbconvert_exporter": "python",
   "pygments_lexer": "ipython3",
   "version": "3.10.12"
  },
  "widgets": {
   "application/vnd.jupyter.widget-state+json": {
    "12e820d687254b22a3b8eabbe9e306cc": {
     "model_module": "@jupyter-widgets/controls",
     "model_module_version": "1.5.0",
     "model_name": "HBoxModel",
     "state": {
      "_dom_classes": [],
      "_model_module": "@jupyter-widgets/controls",
      "_model_module_version": "1.5.0",
      "_model_name": "HBoxModel",
      "_view_count": null,
      "_view_module": "@jupyter-widgets/controls",
      "_view_module_version": "1.5.0",
      "_view_name": "HBoxView",
      "box_style": "",
      "children": [
       "IPY_MODEL_5b64039e080f49a3ad329d05e7914a8c",
       "IPY_MODEL_dfcae9a7d415438382a7369ce13a06ef",
       "IPY_MODEL_7c4f731ff4a2408192578eca04b8d210"
      ],
      "layout": "IPY_MODEL_b1e99f6834be4271b09d127d10162e26"
     }
    },
    "3dd0fe6a7f8e4e5c84ff0a23bd5019af": {
     "model_module": "@jupyter-widgets/base",
     "model_module_version": "1.2.0",
     "model_name": "LayoutModel",
     "state": {
      "_model_module": "@jupyter-widgets/base",
      "_model_module_version": "1.2.0",
      "_model_name": "LayoutModel",
      "_view_count": null,
      "_view_module": "@jupyter-widgets/base",
      "_view_module_version": "1.2.0",
      "_view_name": "LayoutView",
      "align_content": null,
      "align_items": null,
      "align_self": null,
      "border": null,
      "bottom": null,
      "display": null,
      "flex": null,
      "flex_flow": null,
      "grid_area": null,
      "grid_auto_columns": null,
      "grid_auto_flow": null,
      "grid_auto_rows": null,
      "grid_column": null,
      "grid_gap": null,
      "grid_row": null,
      "grid_template_areas": null,
      "grid_template_columns": null,
      "grid_template_rows": null,
      "height": null,
      "justify_content": null,
      "justify_items": null,
      "left": null,
      "margin": null,
      "max_height": null,
      "max_width": null,
      "min_height": null,
      "min_width": null,
      "object_fit": null,
      "object_position": null,
      "order": null,
      "overflow": null,
      "overflow_x": null,
      "overflow_y": null,
      "padding": null,
      "right": null,
      "top": null,
      "visibility": null,
      "width": null
     }
    },
    "5b64039e080f49a3ad329d05e7914a8c": {
     "model_module": "@jupyter-widgets/controls",
     "model_module_version": "1.5.0",
     "model_name": "HTMLModel",
     "state": {
      "_dom_classes": [],
      "_model_module": "@jupyter-widgets/controls",
      "_model_module_version": "1.5.0",
      "_model_name": "HTMLModel",
      "_view_count": null,
      "_view_module": "@jupyter-widgets/controls",
      "_view_module_version": "1.5.0",
      "_view_name": "HTMLView",
      "description": "",
      "description_tooltip": null,
      "layout": "IPY_MODEL_a527ca861c844e61b32982dc8438a03b",
      "placeholder": "​",
      "style": "IPY_MODEL_f3d3b3fde92147b79d76bc8c357c6cd9",
      "value": "Loading training data ..: 100%"
     }
    },
    "787c5f96e2c94a9eada3ad58c1416376": {
     "model_module": "@jupyter-widgets/base",
     "model_module_version": "1.2.0",
     "model_name": "LayoutModel",
     "state": {
      "_model_module": "@jupyter-widgets/base",
      "_model_module_version": "1.2.0",
      "_model_name": "LayoutModel",
      "_view_count": null,
      "_view_module": "@jupyter-widgets/base",
      "_view_module_version": "1.2.0",
      "_view_name": "LayoutView",
      "align_content": null,
      "align_items": null,
      "align_self": null,
      "border": null,
      "bottom": null,
      "display": null,
      "flex": null,
      "flex_flow": null,
      "grid_area": null,
      "grid_auto_columns": null,
      "grid_auto_flow": null,
      "grid_auto_rows": null,
      "grid_column": null,
      "grid_gap": null,
      "grid_row": null,
      "grid_template_areas": null,
      "grid_template_columns": null,
      "grid_template_rows": null,
      "height": null,
      "justify_content": null,
      "justify_items": null,
      "left": null,
      "margin": null,
      "max_height": null,
      "max_width": null,
      "min_height": null,
      "min_width": null,
      "object_fit": null,
      "object_position": null,
      "order": null,
      "overflow": null,
      "overflow_x": null,
      "overflow_y": null,
      "padding": null,
      "right": null,
      "top": null,
      "visibility": null,
      "width": null
     }
    },
    "7c4f731ff4a2408192578eca04b8d210": {
     "model_module": "@jupyter-widgets/controls",
     "model_module_version": "1.5.0",
     "model_name": "HTMLModel",
     "state": {
      "_dom_classes": [],
      "_model_module": "@jupyter-widgets/controls",
      "_model_module_version": "1.5.0",
      "_model_name": "HTMLModel",
      "_view_count": null,
      "_view_module": "@jupyter-widgets/controls",
      "_view_module_version": "1.5.0",
      "_view_name": "HTMLView",
      "description": "",
      "description_tooltip": null,
      "layout": "IPY_MODEL_3dd0fe6a7f8e4e5c84ff0a23bd5019af",
      "placeholder": "​",
      "style": "IPY_MODEL_935e7cc95acd40e991b519c9316343f2",
      "value": " 1/1 [00:00&lt;00:00,  2.19it/s]"
     }
    },
    "935e7cc95acd40e991b519c9316343f2": {
     "model_module": "@jupyter-widgets/controls",
     "model_module_version": "1.5.0",
     "model_name": "DescriptionStyleModel",
     "state": {
      "_model_module": "@jupyter-widgets/controls",
      "_model_module_version": "1.5.0",
      "_model_name": "DescriptionStyleModel",
      "_view_count": null,
      "_view_module": "@jupyter-widgets/base",
      "_view_module_version": "1.2.0",
      "_view_name": "StyleView",
      "description_width": ""
     }
    },
    "9fc23f9f7dd84974ae9d78fcfbb3b825": {
     "model_module": "@jupyter-widgets/controls",
     "model_module_version": "1.5.0",
     "model_name": "ProgressStyleModel",
     "state": {
      "_model_module": "@jupyter-widgets/controls",
      "_model_module_version": "1.5.0",
      "_model_name": "ProgressStyleModel",
      "_view_count": null,
      "_view_module": "@jupyter-widgets/base",
      "_view_module_version": "1.2.0",
      "_view_name": "StyleView",
      "bar_color": null,
      "description_width": ""
     }
    },
    "a527ca861c844e61b32982dc8438a03b": {
     "model_module": "@jupyter-widgets/base",
     "model_module_version": "1.2.0",
     "model_name": "LayoutModel",
     "state": {
      "_model_module": "@jupyter-widgets/base",
      "_model_module_version": "1.2.0",
      "_model_name": "LayoutModel",
      "_view_count": null,
      "_view_module": "@jupyter-widgets/base",
      "_view_module_version": "1.2.0",
      "_view_name": "LayoutView",
      "align_content": null,
      "align_items": null,
      "align_self": null,
      "border": null,
      "bottom": null,
      "display": null,
      "flex": null,
      "flex_flow": null,
      "grid_area": null,
      "grid_auto_columns": null,
      "grid_auto_flow": null,
      "grid_auto_rows": null,
      "grid_column": null,
      "grid_gap": null,
      "grid_row": null,
      "grid_template_areas": null,
      "grid_template_columns": null,
      "grid_template_rows": null,
      "height": null,
      "justify_content": null,
      "justify_items": null,
      "left": null,
      "margin": null,
      "max_height": null,
      "max_width": null,
      "min_height": null,
      "min_width": null,
      "object_fit": null,
      "object_position": null,
      "order": null,
      "overflow": null,
      "overflow_x": null,
      "overflow_y": null,
      "padding": null,
      "right": null,
      "top": null,
      "visibility": null,
      "width": null
     }
    },
    "b1e99f6834be4271b09d127d10162e26": {
     "model_module": "@jupyter-widgets/base",
     "model_module_version": "1.2.0",
     "model_name": "LayoutModel",
     "state": {
      "_model_module": "@jupyter-widgets/base",
      "_model_module_version": "1.2.0",
      "_model_name": "LayoutModel",
      "_view_count": null,
      "_view_module": "@jupyter-widgets/base",
      "_view_module_version": "1.2.0",
      "_view_name": "LayoutView",
      "align_content": null,
      "align_items": null,
      "align_self": null,
      "border": null,
      "bottom": null,
      "display": null,
      "flex": null,
      "flex_flow": null,
      "grid_area": null,
      "grid_auto_columns": null,
      "grid_auto_flow": null,
      "grid_auto_rows": null,
      "grid_column": null,
      "grid_gap": null,
      "grid_row": null,
      "grid_template_areas": null,
      "grid_template_columns": null,
      "grid_template_rows": null,
      "height": null,
      "justify_content": null,
      "justify_items": null,
      "left": null,
      "margin": null,
      "max_height": null,
      "max_width": null,
      "min_height": null,
      "min_width": null,
      "object_fit": null,
      "object_position": null,
      "order": null,
      "overflow": null,
      "overflow_x": null,
      "overflow_y": null,
      "padding": null,
      "right": null,
      "top": null,
      "visibility": null,
      "width": null
     }
    },
    "dfcae9a7d415438382a7369ce13a06ef": {
     "model_module": "@jupyter-widgets/controls",
     "model_module_version": "1.5.0",
     "model_name": "FloatProgressModel",
     "state": {
      "_dom_classes": [],
      "_model_module": "@jupyter-widgets/controls",
      "_model_module_version": "1.5.0",
      "_model_name": "FloatProgressModel",
      "_view_count": null,
      "_view_module": "@jupyter-widgets/controls",
      "_view_module_version": "1.5.0",
      "_view_name": "ProgressView",
      "bar_style": "success",
      "description": "",
      "description_tooltip": null,
      "layout": "IPY_MODEL_787c5f96e2c94a9eada3ad58c1416376",
      "max": 1,
      "min": 0,
      "orientation": "horizontal",
      "style": "IPY_MODEL_9fc23f9f7dd84974ae9d78fcfbb3b825",
      "value": 1
     }
    },
    "f3d3b3fde92147b79d76bc8c357c6cd9": {
     "model_module": "@jupyter-widgets/controls",
     "model_module_version": "1.5.0",
     "model_name": "DescriptionStyleModel",
     "state": {
      "_model_module": "@jupyter-widgets/controls",
      "_model_module_version": "1.5.0",
      "_model_name": "DescriptionStyleModel",
      "_view_count": null,
      "_view_module": "@jupyter-widgets/base",
      "_view_module_version": "1.2.0",
      "_view_name": "StyleView",
      "description_width": ""
     }
    }
   }
  }
 },
 "nbformat": 4,
 "nbformat_minor": 1
}
