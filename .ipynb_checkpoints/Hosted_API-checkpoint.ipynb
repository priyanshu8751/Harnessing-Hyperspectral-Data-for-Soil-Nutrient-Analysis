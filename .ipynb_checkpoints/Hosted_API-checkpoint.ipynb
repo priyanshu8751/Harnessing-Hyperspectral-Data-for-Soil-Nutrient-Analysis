{
 "cells": [
  {
   "cell_type": "code",
   "execution_count": 167,
   "id": "760f987f",
   "metadata": {},
   "outputs": [
    {
     "data": {
      "text/html": [
       "\n",
       "            <style>\n",
       "                .geemap-dark {\n",
       "                    --jp-widgets-color: white;\n",
       "                    --jp-widgets-label-color: white;\n",
       "                    --jp-ui-font-color1: white;\n",
       "                    --jp-layout-color2: #454545;\n",
       "                    background-color: #383838;\n",
       "                }\n",
       "\n",
       "                .geemap-dark .jupyter-button {\n",
       "                    --jp-layout-color3: #383838;\n",
       "                }\n",
       "\n",
       "                .geemap-colab {\n",
       "                    background-color: var(--colab-primary-surface-color, white);\n",
       "                }\n",
       "\n",
       "                .geemap-colab .jupyter-button {\n",
       "                    --jp-layout-color3: var(--colab-primary-surface-color, white);\n",
       "                }\n",
       "            </style>\n",
       "            "
      ],
      "text/plain": [
       "<IPython.core.display.HTML object>"
      ]
     },
     "metadata": {},
     "output_type": "display_data"
    }
   ],
   "source": [
    "import joblib\n",
    "import ee\n",
    "import tensorflow as tf\n",
    "import numpy as np\n",
    "\n",
    "ee.Authenticate()\n",
    "ee.Initialize(project='ee-112001033')\n",
    "\n",
    "def polynomial_fit(data, degree):\n",
    "    x = np.arange(len(data))\n",
    "    coeffs = np.polyfit(x, data, degree)\n",
    "    fitted_curve = np.polyval(coeffs, x)\n",
    "    return fitted_curve\n",
    "\n",
    "def funs(latitude, longitude):\n",
    "        point = ee.Geometry.Point([longitude, latitude])\n",
    "\n",
    "        # Load Hyperion imagery\n",
    "        hyperion = ee.ImageCollection(\"EO1/HYPERION\") \\\n",
    "            .filterBounds(point) \\\n",
    "            .filterDate('2000-08-08', '2007-08-09') \\\n",
    "            .first()\n",
    "\n",
    "        best_band_value = np.linspace(0, -10000, num = 40)\n",
    "        for i in range(0, 3, 2):\n",
    "            for j in range(0, 3, 2):\n",
    "                point = ee.Geometry.Point(longitude + (i / 10000), latitude + (j / 10000))\n",
    "                band_values = hyperion.sample(point, 30).first()\n",
    "                if(band_values.getInfo() == None):\n",
    "                    continue\n",
    "                band_values_list = list(band_values.getInfo()['properties'].values())\n",
    "                band_values_keys = [int(key[1:]) for key in band_values.getInfo()['properties'].keys()]\n",
    "                if (band_values_list[20] - band_values_list[0] > best_band_value[20] - best_band_value[0]):\n",
    "                    best_band_value = band_values_list\n",
    "        \n",
    "        initial_columns1 = range(int(426.82 * 100), int(930 * 100), int(10.1836 * 100))\n",
    "        initial_columns2 = range(int(912.45 * 100), int(954 * 100), int(10.09 * 100))\n",
    "        initial_columns = [x / 100 for x in initial_columns1] + [x / 100 for x in initial_columns2]\n",
    "        sorted_pairs = sorted(zip(initial_columns, best_band_value))\n",
    "        initial_columns, y = zip(*sorted_pairs)\n",
    "\n",
    "        target_columns = range(457, 705, 10)\n",
    "\n",
    "        data_interpolated = np.interp(target_columns, initial_columns, y)\n",
    "        \n",
    "        # maintain data from 400 to 1000\n",
    "        sub1 = ((2.5 * min(data_interpolated)) - max(data_interpolated)) / 1.5\n",
    "        div1 = (max(data_interpolated) - sub1) / 1000\n",
    "        \n",
    "        sub3 = min(data_interpolated) - 400\n",
    "        \n",
    "        model1 = tf.keras.models.load_model(\"models/Nutrients_Model\")\n",
    "        input_data_reshaped = np.reshape((data_interpolated - sub3), (-1, 25, 1))\n",
    "        val1 = model1.predict([input_data_reshaped])\n",
    "        \n",
    "        # maintain data from 0.1 to 0.2\n",
    "        sub2 = (2 * min(data_interpolated)) - max(data_interpolated)\n",
    "        div2 = (max(data_interpolated) - sub2) / 0.2\n",
    "        scaler = joblib.load('models/scaler.save') \n",
    "        data_interpolated1 = scaler.transform([(data_interpolated - sub2) / div2])\n",
    "        \n",
    "        model2 = tf.keras.models.load_model(\"models/Temp_mois2_Model\")\n",
    "        val2 = model2.predict(data_interpolated1)\n",
    "        return data_interpolated, list(val1[0]) + list(val2[0])"
   ]
  },
  {
   "cell_type": "code",
   "execution_count": 168,
   "id": "f4a25265",
   "metadata": {},
   "outputs": [
    {
     "data": {
      "text/html": [
       "\n",
       "            <style>\n",
       "                .geemap-dark {\n",
       "                    --jp-widgets-color: white;\n",
       "                    --jp-widgets-label-color: white;\n",
       "                    --jp-ui-font-color1: white;\n",
       "                    --jp-layout-color2: #454545;\n",
       "                    background-color: #383838;\n",
       "                }\n",
       "\n",
       "                .geemap-dark .jupyter-button {\n",
       "                    --jp-layout-color3: #383838;\n",
       "                }\n",
       "\n",
       "                .geemap-colab {\n",
       "                    background-color: var(--colab-primary-surface-color, white);\n",
       "                }\n",
       "\n",
       "                .geemap-colab .jupyter-button {\n",
       "                    --jp-layout-color3: var(--colab-primary-surface-color, white);\n",
       "                }\n",
       "            </style>\n",
       "            "
      ],
      "text/plain": [
       "<IPython.core.display.HTML object>"
      ]
     },
     "metadata": {},
     "output_type": "display_data"
    },
    {
     "name": "stdout",
     "output_type": "stream",
     "text": [
      "1/1 [==============================] - 0s 120ms/step\n",
      "1/1 [==============================] - 0s 71ms/step\n"
     ]
    }
   ],
   "source": [
    "data, vals = funs(37.187884620699016, -99.64272280662148)"
   ]
  },
  {
   "cell_type": "code",
   "execution_count": 165,
   "id": "c9b9a9c6",
   "metadata": {},
   "outputs": [
    {
     "data": {
      "text/html": [
       "\n",
       "            <style>\n",
       "                .geemap-dark {\n",
       "                    --jp-widgets-color: white;\n",
       "                    --jp-widgets-label-color: white;\n",
       "                    --jp-ui-font-color1: white;\n",
       "                    --jp-layout-color2: #454545;\n",
       "                    background-color: #383838;\n",
       "                }\n",
       "\n",
       "                .geemap-dark .jupyter-button {\n",
       "                    --jp-layout-color3: #383838;\n",
       "                }\n",
       "\n",
       "                .geemap-colab {\n",
       "                    background-color: var(--colab-primary-surface-color, white);\n",
       "                }\n",
       "\n",
       "                .geemap-colab .jupyter-button {\n",
       "                    --jp-layout-color3: var(--colab-primary-surface-color, white);\n",
       "                }\n",
       "            </style>\n",
       "            "
      ],
      "text/plain": [
       "<IPython.core.display.HTML object>"
      ]
     },
     "metadata": {},
     "output_type": "display_data"
    },
    {
     "data": {
      "text/plain": [
       "[86.129684, -117.45954, 197.34256, 9.0526705, 20.278826, 53.52143]"
      ]
     },
     "execution_count": 165,
     "metadata": {},
     "output_type": "execute_result"
    }
   ],
   "source": [
    "vals"
   ]
  },
  {
   "cell_type": "code",
   "execution_count": 166,
   "id": "f597f1f5",
   "metadata": {},
   "outputs": [
    {
     "data": {
      "text/html": [
       "\n",
       "            <style>\n",
       "                .geemap-dark {\n",
       "                    --jp-widgets-color: white;\n",
       "                    --jp-widgets-label-color: white;\n",
       "                    --jp-ui-font-color1: white;\n",
       "                    --jp-layout-color2: #454545;\n",
       "                    background-color: #383838;\n",
       "                }\n",
       "\n",
       "                .geemap-dark .jupyter-button {\n",
       "                    --jp-layout-color3: #383838;\n",
       "                }\n",
       "\n",
       "                .geemap-colab {\n",
       "                    background-color: var(--colab-primary-surface-color, white);\n",
       "                }\n",
       "\n",
       "                .geemap-colab .jupyter-button {\n",
       "                    --jp-layout-color3: var(--colab-primary-surface-color, white);\n",
       "                }\n",
       "            </style>\n",
       "            "
      ],
      "text/plain": [
       "<IPython.core.display.HTML object>"
      ]
     },
     "metadata": {},
     "output_type": "display_data"
    },
    {
     "data": {
      "text/plain": [
       "[<matplotlib.lines.Line2D at 0x7ec58bf9fcd0>]"
      ]
     },
     "execution_count": 166,
     "metadata": {},
     "output_type": "execute_result"
    },
    {
     "data": {
      "image/png": "[encoded data removed]",
      "text/plain": [
       "<Figure size 432x288 with 1 Axes>"
      ]
     },
     "metadata": {
      "needs_background": "light"
     },
     "output_type": "display_data"
    }
   ],
   "source": [
    "from matplotlib import pyplot as plt\n",
    "\n",
    "plt.plot(data[:25])"
   ]
  },
  {
   "cell_type": "code",
   "execution_count": null,
   "id": "adeade75",
   "metadata": {},
   "outputs": [],
   "source": []
  }
 ],
 "metadata": {
  "kernelspec": {
   "display_name": "Python 3 (ipykernel)",
   "language": "python",
   "name": "python3"
  },
  "language_info": {
   "codemirror_mode": {
    "name": "ipython",
    "version": 3
   },
   "file_extension": ".py",
   "mimetype": "text/x-python",
   "name": "python",
   "nbconvert_exporter": "python",
   "pygments_lexer": "ipython3",
   "version": "3.10.12"
  }
 },
 "nbformat": 4,
 "nbformat_minor": 5
}
